{
 "cells": [
  {
   "cell_type": "markdown",
   "id": "47b1766f",
   "metadata": {},
   "source": [
    "# Retail Demand Forecasting Analysis\n",
    "\n",
    "This notebook contains the analysis for the ML Zoomcamp 2024 Competition focusing on retail demand forecasting."
   ]
  },
  {
   "cell_type": "markdown",
   "id": "4b73c145",
   "metadata": {},
   "source": [
    "## Data Preparation\n",
    "\n",
    "In this section, we will:\n",
    "1. Load and examine the raw data\n",
    "2. Check for missing values\n",
    "3. Analyze data types and basic statistics\n",
    "4. Handle any data format issues"
   ]
  },
  {
   "cell_type": "code",
   "execution_count": null,
   "id": "00ebca65",
   "metadata": {},
   "outputs": [],
   "source": [
    "import pandas as pd\n",
    "import numpy as np\n",
    "import matplotlib.pyplot as plt\n",
    "import seaborn as sns\n",
    "\n",
    "# Set display options\n",
    "pd.set_option(\"display.max_columns\", None)\n",
    "plt.style.use(\"seaborn\")"
   ]
  },
  {
   "cell_type": "markdown",
   "id": "244c0df2",
   "metadata": {},
   "source": [
    "## Data Cleaning\n",
    "\n",
    "In this section, we will:\n",
    "1. Remove or handle outliers\n",
    "2. Handle missing values\n",
    "3. Format dates and categorical variables\n",
    "4. Create any necessary derived features"
   ]
  },
  {
   "cell_type": "code",
   "execution_count": null,
   "id": "de0d744a",
   "metadata": {},
   "outputs": [],
   "source": [
    "# Data loading and initial examination will go here\n",
    "# Code will be added once we have access to the dataset"
   ]
  },
  {
   "cell_type": "markdown",
   "id": "b9ca1c4c",
   "metadata": {},
   "source": [
    "## Data Loading\n",
    "\n",
    "Loading all CSV files from the competition dataset:"
   ]
  },
  {
   "cell_type": "code",
   "execution_count": null,
   "id": "1632f55e",
   "metadata": {},
   "outputs": [],
   "source": [
    "# Load all CSV files\n",
    "import pandas as pd\n",
    "import numpy as np\n",
    "import matplotlib.pyplot as plt\n",
    "import seaborn as sns\n",
    "\n",
    "# Set display options\n",
    "pd.set_option('display.max_columns', None)\n",
    "plt.style.use('seaborn')\n",
    "\n",
    "# Load all CSV files\n",
    "actual_matrix = pd.read_csv('data/actual_matrix.csv')\n",
    "catalog = pd.read_csv('data/catalog.csv')\n",
    "discounts = pd.read_csv('data/discounts_history.csv')\n",
    "markdowns = pd.read_csv('data/markdowns.csv')\n",
    "online = pd.read_csv('data/online.csv')\n",
    "price_history = pd.read_csv('data/price_history.csv')\n",
    "sales = pd.read_csv('data/sales.csv')\n",
    "stores = pd.read_csv('data/stores.csv')\n",
    "test = pd.read_csv('data/test.csv')\n",
    "\n",
    "# Display basic information about each dataset\n",
    "for name, df in {\n",
    "    'Actual Matrix': actual_matrix,\n",
    "    'Catalog': catalog,\n",
    "    'Discounts History': discounts,\n",
    "    'Markdowns': markdowns,\n",
    "    'Online': online,\n",
    "    'Price History': price_history,\n",
    "    'Sales': sales,\n",
    "    'Stores': stores,\n",
    "    'Test': test\n",
    "}.items():\n",
    "    print(f\"\\n{name} Dataset:\")\n",
    "    print(f\"Shape: {df.shape}\")\n",
    "    print(\"\\nColumns:\")\n",
    "    print(df.columns.tolist())\n",
    "    print(\"\\nSample data:\")\n",
    "    print(df.head(2))\n",
    "    print(\"\\nData Info:\")\n",
    "    df.info()\n",
    "    print(\"\\n\" + \"=\"*50)"
   ]
  },
  {
   "cell_type": "markdown",
   "id": "003266b1",
   "metadata": {},
   "source": [
    "## Initial Data Analysis\n",
    "\n",
    "Key aspects to analyze:\n",
    "1. Data completeness (missing values)\n",
    "2. Data types and potential type conversions\n",
    "3. Value distributions\n",
    "4. Temporal patterns (for time-series data)\n",
    "5. Relationships between different datasets"
   ]
  },
  {
   "cell_type": "code",
   "execution_count": null,
   "id": "1c41d8bf",
   "metadata": {},
   "outputs": [],
   "source": [
    "# Analyze missing values in each dataset\n",
    "print(\"Missing Values Analysis:\\n\")\n",
    "\n",
    "for name, df in {\n",
    "    'Actual Matrix': actual_matrix,\n",
    "    'Catalog': catalog,\n",
    "    'Discounts History': discounts,\n",
    "    'Markdowns': markdowns,\n",
    "    'Online': online,\n",
    "    'Price History': price_history,\n",
    "    'Sales': sales,\n",
    "    'Stores': stores,\n",
    "    'Test': test\n",
    "}.items():\n",
    "    missing = df.isnull().sum()\n",
    "    if missing.any():\n",
    "        print(f\"\\n{name} Dataset Missing Values:\")\n",
    "        print(missing[missing > 0])\n",
    "    else:\n",
    "        print(f\"\\n{name} Dataset: No missing values\")"
   ]
  },
  {
   "cell_type": "markdown",
   "id": "8268d5e7",
   "metadata": {},
   "source": [
    "## Data Visualization\n",
    "\n",
    "Let's create some basic visualizations to understand our data better:"
   ]
  },
  {
   "cell_type": "code",
   "execution_count": null,
   "id": "dbd913dc",
   "metadata": {},
   "outputs": [],
   "source": [
    "# Set up the plotting style\n",
    "plt.style.use('seaborn')\n",
    "sns.set_palette(\"husl\")\n",
    "\n",
    "# 1. Store Distribution Analysis\n",
    "plt.figure(figsize=(10, 6))\n",
    "stores['store_type'].value_counts().plot(kind='bar')\n",
    "plt.title('Distribution of Store Types')\n",
    "plt.xlabel('Store Type')\n",
    "plt.ylabel('Count')\n",
    "plt.xticks(rotation=45)\n",
    "plt.tight_layout()\n",
    "plt.show()\n",
    "\n",
    "# 2. Sales Overview\n",
    "plt.figure(figsize=(12, 6))\n",
    "sales.groupby('date')['sales'].sum().plot(kind='line')\n",
    "plt.title('Total Sales Over Time')\n",
    "plt.xlabel('Date')\n",
    "plt.ylabel('Total Sales')\n",
    "plt.xticks(rotation=45)\n",
    "plt.tight_layout()\n",
    "plt.show()\n",
    "\n",
    "# 3. Price Distribution\n",
    "plt.figure(figsize=(10, 6))\n",
    "sns.histplot(data=price_history, x='price', bins=50)\n",
    "plt.title('Distribution of Prices')\n",
    "plt.xlabel('Price')\n",
    "plt.ylabel('Count')\n",
    "plt.tight_layout()\n",
    "plt.show()\n",
    "\n",
    "# 4. Online vs Offline Analysis\n",
    "if 'online' in online.columns:  # Check if 'online' column exists\n",
    "    plt.figure(figsize=(8, 6))\n",
    "    online['online'].value_counts().plot(kind='pie', autopct='%1.1f%%')\n",
    "    plt.title('Online vs Offline Distribution')\n",
    "    plt.axis('equal')\n",
    "    plt.show()"
   ]
  }
 ],
 "metadata": {},
 "nbformat": 4,
 "nbformat_minor": 5
}
