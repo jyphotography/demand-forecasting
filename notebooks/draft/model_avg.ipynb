{
 "cells": [
  {
   "cell_type": "code",
   "execution_count": 3,
   "metadata": {},
   "outputs": [],
   "source": [
    "import pandas as pd\n",
    "from pathlib import Path"
   ]
  },
  {
   "cell_type": "code",
   "execution_count": 4,
   "metadata": {},
   "outputs": [],
   "source": [
    "# Set up paths\n",
    "data_dir = Path('/workspaces/demand-forecasting/data').expanduser()\n",
    "# Load sales data\n",
    "sales = pd.read_csv(data_dir / 'sales.csv', index_col=0)\n",
    "online = pd.read_csv(data_dir / 'online.csv', index_col=0)\n",
    "# Combine sales and online\n",
    "sales['channel'] = 'offline'\n",
    "online['channel'] = 'online'\n",
    "all_sales = pd.concat([sales, online], ignore_index=True)"
   ]
  },
  {
   "cell_type": "code",
   "execution_count": 5,
   "metadata": {},
   "outputs": [],
   "source": [
    "# Parse and filter data for specified date range\n",
    "all_sales['date'] = pd.to_datetime(sales['date'])\n",
    "mask = (all_sales['date'] >= '2023-12-01') & (all_sales['date'] <= '2024-09-30')\n",
    "sales_filtered = all_sales.loc[mask].copy()  # Create copy to avoid SettingWithCopyWarning"
   ]
  },
  {
   "cell_type": "code",
   "execution_count": 6,
   "metadata": {},
   "outputs": [],
   "source": [
    "# 2. Compute monthly averages\n",
    "# Convert to monthly period for grouping\n",
    "sales_filtered['year_month'] = sales_filtered['date'].dt.to_period('M')"
   ]
  },
  {
   "cell_type": "code",
   "execution_count": 7,
   "metadata": {},
   "outputs": [
    {
     "data": {
      "text/html": [
       "<div>\n",
       "<style scoped>\n",
       "    .dataframe tbody tr th:only-of-type {\n",
       "        vertical-align: middle;\n",
       "    }\n",
       "\n",
       "    .dataframe tbody tr th {\n",
       "        vertical-align: top;\n",
       "    }\n",
       "\n",
       "    .dataframe thead th {\n",
       "        text-align: right;\n",
       "    }\n",
       "</style>\n",
       "<table border=\"1\" class=\"dataframe\">\n",
       "  <thead>\n",
       "    <tr style=\"text-align: right;\">\n",
       "      <th></th>\n",
       "      <th>date</th>\n",
       "      <th>item_id</th>\n",
       "      <th>quantity</th>\n",
       "      <th>price_base</th>\n",
       "      <th>sum_total</th>\n",
       "      <th>store_id</th>\n",
       "      <th>channel</th>\n",
       "      <th>year_month</th>\n",
       "    </tr>\n",
       "  </thead>\n",
       "  <tbody>\n",
       "    <tr>\n",
       "      <th>535529</th>\n",
       "      <td>2023-12-01</td>\n",
       "      <td>a36b00204cbe</td>\n",
       "      <td>1.0</td>\n",
       "      <td>129.9</td>\n",
       "      <td>129.9</td>\n",
       "      <td>1</td>\n",
       "      <td>offline</td>\n",
       "      <td>2023-12</td>\n",
       "    </tr>\n",
       "    <tr>\n",
       "      <th>535530</th>\n",
       "      <td>2023-12-01</td>\n",
       "      <td>b568135541ea</td>\n",
       "      <td>1.0</td>\n",
       "      <td>325.0</td>\n",
       "      <td>325.0</td>\n",
       "      <td>1</td>\n",
       "      <td>offline</td>\n",
       "      <td>2023-12</td>\n",
       "    </tr>\n",
       "    <tr>\n",
       "      <th>535531</th>\n",
       "      <td>2023-12-01</td>\n",
       "      <td>57f6f314c80c</td>\n",
       "      <td>1.0</td>\n",
       "      <td>149.9</td>\n",
       "      <td>149.9</td>\n",
       "      <td>1</td>\n",
       "      <td>offline</td>\n",
       "      <td>2023-12</td>\n",
       "    </tr>\n",
       "    <tr>\n",
       "      <th>535532</th>\n",
       "      <td>2023-12-01</td>\n",
       "      <td>3549414407b4</td>\n",
       "      <td>1.0</td>\n",
       "      <td>199.9</td>\n",
       "      <td>199.9</td>\n",
       "      <td>1</td>\n",
       "      <td>offline</td>\n",
       "      <td>2023-12</td>\n",
       "    </tr>\n",
       "    <tr>\n",
       "      <th>535533</th>\n",
       "      <td>2023-12-01</td>\n",
       "      <td>3dd6b77c8dd3</td>\n",
       "      <td>13.0</td>\n",
       "      <td>54.9</td>\n",
       "      <td>713.7</td>\n",
       "      <td>1</td>\n",
       "      <td>offline</td>\n",
       "      <td>2023-12</td>\n",
       "    </tr>\n",
       "  </tbody>\n",
       "</table>\n",
       "</div>"
      ],
      "text/plain": [
       "             date       item_id  quantity  price_base  sum_total  store_id  \\\n",
       "535529 2023-12-01  a36b00204cbe       1.0       129.9      129.9         1   \n",
       "535530 2023-12-01  b568135541ea       1.0       325.0      325.0         1   \n",
       "535531 2023-12-01  57f6f314c80c       1.0       149.9      149.9         1   \n",
       "535532 2023-12-01  3549414407b4       1.0       199.9      199.9         1   \n",
       "535533 2023-12-01  3dd6b77c8dd3      13.0        54.9      713.7         1   \n",
       "\n",
       "        channel year_month  \n",
       "535529  offline    2023-12  \n",
       "535530  offline    2023-12  \n",
       "535531  offline    2023-12  \n",
       "535532  offline    2023-12  \n",
       "535533  offline    2023-12  "
      ]
     },
     "execution_count": 7,
     "metadata": {},
     "output_type": "execute_result"
    }
   ],
   "source": [
    "sales_filtered.head()"
   ]
  },
  {
   "cell_type": "code",
   "execution_count": 8,
   "metadata": {},
   "outputs": [
    {
     "name": "stdout",
     "output_type": "stream",
     "text": [
      "Computed averages for 18696 item-store combinations\n"
     ]
    }
   ],
   "source": [
    "monthly_avgs = (\n",
    "    sales_filtered.groupby(['item_id', 'store_id'])['quantity']\n",
    "    .mean()\n",
    "    .reset_index()\n",
    "    .rename(columns={'quantity': 'monthly_avg'})\n",
    ")\n",
    "\n",
    "print(f\"Computed averages for {len(monthly_avgs)} item-store combinations\")"
   ]
  },
  {
   "cell_type": "code",
   "execution_count": 17,
   "metadata": {},
   "outputs": [
    {
     "name": "stdout",
     "output_type": "stream",
     "text": [
      "Loading test data...\n"
     ]
    }
   ],
   "source": [
    "# 3. Read the test CSV and prepare for predictions\n",
    "print(\"Loading test data...\")\n",
    "# Read test data with semicolon separator and split columns\n",
    "test = pd.read_csv(data_dir / 'test.csv', sep=';')"
   ]
  },
  {
   "cell_type": "code",
   "execution_count": 18,
   "metadata": {},
   "outputs": [],
   "source": [
    "# Convert date format (DD.MM.YYYY to YYYY-MM-DD)\n",
    "test['date'] = pd.to_datetime(test['date'], format='%d.%m.%Y').dt.strftime('%Y-%m-%d')\n",
    "test['quantity'] = 0.0  # default value for missing combinations"
   ]
  },
  {
   "cell_type": "code",
   "execution_count": 19,
   "metadata": {},
   "outputs": [
    {
     "data": {
      "text/html": [
       "<div>\n",
       "<style scoped>\n",
       "    .dataframe tbody tr th:only-of-type {\n",
       "        vertical-align: middle;\n",
       "    }\n",
       "\n",
       "    .dataframe tbody tr th {\n",
       "        vertical-align: top;\n",
       "    }\n",
       "\n",
       "    .dataframe thead th {\n",
       "        text-align: right;\n",
       "    }\n",
       "</style>\n",
       "<table border=\"1\" class=\"dataframe\">\n",
       "  <thead>\n",
       "    <tr style=\"text-align: right;\">\n",
       "      <th></th>\n",
       "      <th>row_id</th>\n",
       "      <th>item_id</th>\n",
       "      <th>store_id</th>\n",
       "      <th>date</th>\n",
       "      <th>quantity</th>\n",
       "    </tr>\n",
       "  </thead>\n",
       "  <tbody>\n",
       "    <tr>\n",
       "      <th>0</th>\n",
       "      <td>0</td>\n",
       "      <td>c578da8e8841</td>\n",
       "      <td>1</td>\n",
       "      <td>2024-09-27</td>\n",
       "      <td>0.0</td>\n",
       "    </tr>\n",
       "    <tr>\n",
       "      <th>1</th>\n",
       "      <td>1</td>\n",
       "      <td>c578da8e8841</td>\n",
       "      <td>1</td>\n",
       "      <td>2024-09-28</td>\n",
       "      <td>0.0</td>\n",
       "    </tr>\n",
       "    <tr>\n",
       "      <th>2</th>\n",
       "      <td>2</td>\n",
       "      <td>c578da8e8841</td>\n",
       "      <td>1</td>\n",
       "      <td>2024-09-29</td>\n",
       "      <td>0.0</td>\n",
       "    </tr>\n",
       "    <tr>\n",
       "      <th>3</th>\n",
       "      <td>3</td>\n",
       "      <td>c578da8e8841</td>\n",
       "      <td>1</td>\n",
       "      <td>2024-09-30</td>\n",
       "      <td>0.0</td>\n",
       "    </tr>\n",
       "    <tr>\n",
       "      <th>4</th>\n",
       "      <td>4</td>\n",
       "      <td>c578da8e8841</td>\n",
       "      <td>1</td>\n",
       "      <td>2024-10-01</td>\n",
       "      <td>0.0</td>\n",
       "    </tr>\n",
       "  </tbody>\n",
       "</table>\n",
       "</div>"
      ],
      "text/plain": [
       "   row_id       item_id  store_id        date  quantity\n",
       "0       0  c578da8e8841         1  2024-09-27       0.0\n",
       "1       1  c578da8e8841         1  2024-09-28       0.0\n",
       "2       2  c578da8e8841         1  2024-09-29       0.0\n",
       "3       3  c578da8e8841         1  2024-09-30       0.0\n",
       "4       4  c578da8e8841         1  2024-10-01       0.0"
      ]
     },
     "execution_count": 19,
     "metadata": {},
     "output_type": "execute_result"
    }
   ],
   "source": [
    "test.head()"
   ]
  },
  {
   "cell_type": "code",
   "execution_count": 20,
   "metadata": {},
   "outputs": [],
   "source": [
    "# Merge test with monthly averages\n",
    "merged = test.merge(monthly_avgs, on=['item_id', 'store_id'], how='left')\n",
    "merged['quantity'] = merged['monthly_avg'].fillna(0.0)"
   ]
  },
  {
   "cell_type": "code",
   "execution_count": 21,
   "metadata": {},
   "outputs": [
    {
     "data": {
      "text/html": [
       "<div>\n",
       "<style scoped>\n",
       "    .dataframe tbody tr th:only-of-type {\n",
       "        vertical-align: middle;\n",
       "    }\n",
       "\n",
       "    .dataframe tbody tr th {\n",
       "        vertical-align: top;\n",
       "    }\n",
       "\n",
       "    .dataframe thead th {\n",
       "        text-align: right;\n",
       "    }\n",
       "</style>\n",
       "<table border=\"1\" class=\"dataframe\">\n",
       "  <thead>\n",
       "    <tr style=\"text-align: right;\">\n",
       "      <th></th>\n",
       "      <th>row_id</th>\n",
       "      <th>item_id</th>\n",
       "      <th>store_id</th>\n",
       "      <th>date</th>\n",
       "      <th>quantity</th>\n",
       "      <th>monthly_avg</th>\n",
       "    </tr>\n",
       "  </thead>\n",
       "  <tbody>\n",
       "    <tr>\n",
       "      <th>0</th>\n",
       "      <td>0</td>\n",
       "      <td>c578da8e8841</td>\n",
       "      <td>1</td>\n",
       "      <td>2024-09-27</td>\n",
       "      <td>7.628763</td>\n",
       "      <td>7.628763</td>\n",
       "    </tr>\n",
       "    <tr>\n",
       "      <th>1</th>\n",
       "      <td>1</td>\n",
       "      <td>c578da8e8841</td>\n",
       "      <td>1</td>\n",
       "      <td>2024-09-28</td>\n",
       "      <td>7.628763</td>\n",
       "      <td>7.628763</td>\n",
       "    </tr>\n",
       "    <tr>\n",
       "      <th>2</th>\n",
       "      <td>2</td>\n",
       "      <td>c578da8e8841</td>\n",
       "      <td>1</td>\n",
       "      <td>2024-09-29</td>\n",
       "      <td>7.628763</td>\n",
       "      <td>7.628763</td>\n",
       "    </tr>\n",
       "    <tr>\n",
       "      <th>3</th>\n",
       "      <td>3</td>\n",
       "      <td>c578da8e8841</td>\n",
       "      <td>1</td>\n",
       "      <td>2024-09-30</td>\n",
       "      <td>7.628763</td>\n",
       "      <td>7.628763</td>\n",
       "    </tr>\n",
       "    <tr>\n",
       "      <th>4</th>\n",
       "      <td>4</td>\n",
       "      <td>c578da8e8841</td>\n",
       "      <td>1</td>\n",
       "      <td>2024-10-01</td>\n",
       "      <td>7.628763</td>\n",
       "      <td>7.628763</td>\n",
       "    </tr>\n",
       "  </tbody>\n",
       "</table>\n",
       "</div>"
      ],
      "text/plain": [
       "   row_id       item_id  store_id        date  quantity  monthly_avg\n",
       "0       0  c578da8e8841         1  2024-09-27  7.628763     7.628763\n",
       "1       1  c578da8e8841         1  2024-09-28  7.628763     7.628763\n",
       "2       2  c578da8e8841         1  2024-09-29  7.628763     7.628763\n",
       "3       3  c578da8e8841         1  2024-09-30  7.628763     7.628763\n",
       "4       4  c578da8e8841         1  2024-10-01  7.628763     7.628763"
      ]
     },
     "execution_count": 21,
     "metadata": {},
     "output_type": "execute_result"
    }
   ],
   "source": [
    "# merged.head()"
   ]
  },
  {
   "cell_type": "code",
   "execution_count": 22,
   "metadata": {},
   "outputs": [
    {
     "data": {
      "text/html": [
       "<div>\n",
       "<style scoped>\n",
       "    .dataframe tbody tr th:only-of-type {\n",
       "        vertical-align: middle;\n",
       "    }\n",
       "\n",
       "    .dataframe tbody tr th {\n",
       "        vertical-align: top;\n",
       "    }\n",
       "\n",
       "    .dataframe thead th {\n",
       "        text-align: right;\n",
       "    }\n",
       "</style>\n",
       "<table border=\"1\" class=\"dataframe\">\n",
       "  <thead>\n",
       "    <tr style=\"text-align: right;\">\n",
       "      <th></th>\n",
       "      <th>row_id</th>\n",
       "      <th>quantity</th>\n",
       "    </tr>\n",
       "  </thead>\n",
       "  <tbody>\n",
       "    <tr>\n",
       "      <th>0</th>\n",
       "      <td>0</td>\n",
       "      <td>7.628763</td>\n",
       "    </tr>\n",
       "    <tr>\n",
       "      <th>1</th>\n",
       "      <td>1</td>\n",
       "      <td>7.628763</td>\n",
       "    </tr>\n",
       "    <tr>\n",
       "      <th>2</th>\n",
       "      <td>2</td>\n",
       "      <td>7.628763</td>\n",
       "    </tr>\n",
       "    <tr>\n",
       "      <th>3</th>\n",
       "      <td>3</td>\n",
       "      <td>7.628763</td>\n",
       "    </tr>\n",
       "    <tr>\n",
       "      <th>4</th>\n",
       "      <td>4</td>\n",
       "      <td>7.628763</td>\n",
       "    </tr>\n",
       "  </tbody>\n",
       "</table>\n",
       "</div>"
      ],
      "text/plain": [
       "   row_id  quantity\n",
       "0       0  7.628763\n",
       "1       1  7.628763\n",
       "2       2  7.628763\n",
       "3       3  7.628763\n",
       "4       4  7.628763"
      ]
     },
     "execution_count": 22,
     "metadata": {},
     "output_type": "execute_result"
    }
   ],
   "source": [
    "# 4. Format and save submission\n",
    "submission = merged[['row_id', 'quantity']]\n",
    "submission.head()"
   ]
  },
  {
   "cell_type": "code",
   "execution_count": 24,
   "metadata": {},
   "outputs": [],
   "source": [
    "submission.to_csv(data_dir / 'submission_avg_20250106.csv', index=False)"
   ]
  }
 ],
 "metadata": {
  "kernelspec": {
   "display_name": "Python 3",
   "language": "python",
   "name": "python3"
  },
  "language_info": {
   "codemirror_mode": {
    "name": "ipython",
    "version": 3
   },
   "file_extension": ".py",
   "mimetype": "text/x-python",
   "name": "python",
   "nbconvert_exporter": "python",
   "pygments_lexer": "ipython3",
   "version": "3.12.1"
  }
 },
 "nbformat": 4,
 "nbformat_minor": 2
}
