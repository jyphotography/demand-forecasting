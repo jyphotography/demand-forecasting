{
 "cells": [
  {
   "cell_type": "code",
   "execution_count": 2,
   "id": "b793d831-bb60-48a9-8e17-020619d33deb",
   "metadata": {},
   "outputs": [],
   "source": [
    "import pandas as pd\n",
    "import numpy as np\n",
    "from tqdm import tqdm\n",
    "import lightgbm as lgb\n",
    "from matplotlib import pyplot as plt\n",
    "%matplotlib inline\n",
    "from sklearn.model_selection import train_test_split\n",
    "from sklearn.feature_extraction import DictVectorizer\n",
    "from sklearn.linear_model import LogisticRegression\n",
    "from sklearn.metrics import roc_auc_score\n",
    "from sklearn.model_selection import KFold\n",
    "from sklearn.tree import DecisionTreeRegressor\n",
    "from sklearn.ensemble import RandomForestRegressor"
   ]
  },
  {
   "cell_type": "code",
   "execution_count": 3,
   "id": "89f0a239-6737-4663-86ef-c8870bd8726c",
   "metadata": {},
   "outputs": [],
   "source": [
    "sales = pd.read_csv('../data/sales.csv', index_col=0)\n",
    "online = pd.read_csv('../data/online.csv', index_col=0)\n",
    "all_sales = pd.concat([sales, online], ignore_index=True)"
   ]
  },
  {
   "cell_type": "code",
   "execution_count": 4,
   "id": "09ee9432-9970-4a41-84f2-7eaad390d505",
   "metadata": {},
   "outputs": [
    {
     "data": {
      "text/html": [
       "<div>\n",
       "<style scoped>\n",
       "    .dataframe tbody tr th:only-of-type {\n",
       "        vertical-align: middle;\n",
       "    }\n",
       "\n",
       "    .dataframe tbody tr th {\n",
       "        vertical-align: top;\n",
       "    }\n",
       "\n",
       "    .dataframe thead th {\n",
       "        text-align: right;\n",
       "    }\n",
       "</style>\n",
       "<table border=\"1\" class=\"dataframe\">\n",
       "  <thead>\n",
       "    <tr style=\"text-align: right;\">\n",
       "      <th></th>\n",
       "      <th>date</th>\n",
       "      <th>store_id</th>\n",
       "      <th>item_id</th>\n",
       "      <th>quantity</th>\n",
       "      <th>price_base</th>\n",
       "    </tr>\n",
       "  </thead>\n",
       "  <tbody>\n",
       "    <tr>\n",
       "      <th>0</th>\n",
       "      <td>2022-08-28</td>\n",
       "      <td>1</td>\n",
       "      <td>001829cb707d</td>\n",
       "      <td>7.0</td>\n",
       "      <td>134.76</td>\n",
       "    </tr>\n",
       "    <tr>\n",
       "      <th>1</th>\n",
       "      <td>2022-08-28</td>\n",
       "      <td>1</td>\n",
       "      <td>0022b986c8f0</td>\n",
       "      <td>2.0</td>\n",
       "      <td>59.90</td>\n",
       "    </tr>\n",
       "    <tr>\n",
       "      <th>2</th>\n",
       "      <td>2022-08-28</td>\n",
       "      <td>1</td>\n",
       "      <td>002f51c34a7a</td>\n",
       "      <td>4.0</td>\n",
       "      <td>83.11</td>\n",
       "    </tr>\n",
       "    <tr>\n",
       "      <th>3</th>\n",
       "      <td>2022-08-28</td>\n",
       "      <td>1</td>\n",
       "      <td>0052403cd09c</td>\n",
       "      <td>1.0</td>\n",
       "      <td>45.70</td>\n",
       "    </tr>\n",
       "    <tr>\n",
       "      <th>4</th>\n",
       "      <td>2022-08-28</td>\n",
       "      <td>1</td>\n",
       "      <td>005addd8096b</td>\n",
       "      <td>2.0</td>\n",
       "      <td>77.25</td>\n",
       "    </tr>\n",
       "  </tbody>\n",
       "</table>\n",
       "</div>"
      ],
      "text/plain": [
       "         date  store_id       item_id  quantity  price_base\n",
       "0  2022-08-28         1  001829cb707d       7.0      134.76\n",
       "1  2022-08-28         1  0022b986c8f0       2.0       59.90\n",
       "2  2022-08-28         1  002f51c34a7a       4.0       83.11\n",
       "3  2022-08-28         1  0052403cd09c       1.0       45.70\n",
       "4  2022-08-28         1  005addd8096b       2.0       77.25"
      ]
     },
     "execution_count": 4,
     "metadata": {},
     "output_type": "execute_result"
    }
   ],
   "source": [
    "# Group by date, store_id, item_id and aggregate\n",
    "all_sales = all_sales.groupby(['date', 'store_id', 'item_id']).agg({\n",
    "    'quantity': 'sum',\n",
    "    'price_base': 'mean'\n",
    "}).reset_index()\n",
    "all_sales.head()"
   ]
  },
  {
   "cell_type": "code",
   "execution_count": 5,
   "id": "f5627cdc-1356-4639-b9f8-ae68aa38a00d",
   "metadata": {},
   "outputs": [],
   "source": [
    "# Convert date to datetime\n",
    "all_sales['date'] = pd.to_datetime(all_sales['date'])\n",
    "# Create basic time features\n",
    "all_sales['year'] = all_sales['date'].dt.year\n",
    "all_sales['month'] = all_sales['date'].dt.month\n",
    "# all_sales['day'] = all_sales['date'].dt.day\n",
    "all_sales['day_of_week'] = all_sales['date'].dt.dayofweek"
   ]
  },
  {
   "cell_type": "code",
   "execution_count": 6,
   "id": "082d5dcf-c387-434a-9d74-be00bcc6e5d0",
   "metadata": {},
   "outputs": [],
   "source": [
    "all_sales['date'] = all_sales['date'].astype(str)\n",
    "all_sales['store_id'] = all_sales['store_id'].astype(str)\n",
    "all_sales['year'] = all_sales['year'].astype(str)\n",
    "all_sales['month'] = all_sales['month'].astype(str)\n",
    "# all_sales['day'] = all_sales['day'].astype(str)\n",
    "all_sales['day_of_week'] = all_sales['day_of_week'].astype(str)"
   ]
  },
  {
   "cell_type": "code",
   "execution_count": 7,
   "id": "4db4cd27-1b03-4459-beb2-d6cf12f9ad4e",
   "metadata": {},
   "outputs": [
    {
     "data": {
      "text/plain": [
       "date           0\n",
       "store_id       0\n",
       "item_id        0\n",
       "quantity       0\n",
       "price_base     0\n",
       "year           0\n",
       "month          0\n",
       "day_of_week    0\n",
       "dtype: int64"
      ]
     },
     "execution_count": 7,
     "metadata": {},
     "output_type": "execute_result"
    }
   ],
   "source": [
    "all_sales = all_sales[all_sales['quantity'] > 0]\n",
    "all_sales = all_sales.fillna('unknown')\n",
    "all_sales.isna().sum()"
   ]
  },
  {
   "cell_type": "code",
   "execution_count": 8,
   "id": "552cd73a-d556-45c0-b77a-5403273753a7",
   "metadata": {},
   "outputs": [],
   "source": [
    "def train_val_test_split(df, target, train_size, val_size, test_size, random_state):\n",
    "    \n",
    "    df_full_train, df_test = train_test_split(df, test_size=test_size, random_state=random_state)\n",
    "    val_portion = val_size / (train_size + val_size)\n",
    "    df_train, df_val = train_test_split(df_full_train, test_size=val_portion, random_state=random_state)\n",
    "\n",
    "    df_train = df_train.reset_index(drop=True)\n",
    "    df_val = df_val.reset_index(drop=True)\n",
    "    df_test = df_test.reset_index(drop=True)\n",
    "\n",
    "    y_train = df_train[target].values\n",
    "    y_val = df_val[target].values\n",
    "    y_test = df_test[target].values\n",
    "\n",
    "    del df_train[target]\n",
    "    del df_val[target]\n",
    "    del df_test[target]\n",
    "\n",
    "    return df_full_train, df_train, df_test, df_val, y_train, y_val, y_test"
   ]
  },
  {
   "cell_type": "code",
   "execution_count": 9,
   "id": "30f939c3-4313-411f-85e6-36ddd9543c5b",
   "metadata": {},
   "outputs": [],
   "source": [
    "df_full_train, df_train, df_test, df_val, y_train, y_val, y_test = \\\n",
    "    train_val_test_split(df=all_sales, target='quantity', train_size=0.6, val_size=0.2, test_size=0.2, random_state=1)"
   ]
  },
  {
   "cell_type": "code",
   "execution_count": 10,
   "id": "9f3fcfcb-9d13-4091-92c7-d56e3f648c5c",
   "metadata": {},
   "outputs": [],
   "source": [
    "def train_lgbm(df_train, y_train, params=None):\n",
    "    if params is None:\n",
    "        # Simplified parameters for faster training\n",
    "        params = {\n",
    "            'objective': 'regression',\n",
    "            'metric': 'rmse',\n",
    "            'num_leaves': 20,  # reduced from 31\n",
    "            'learning_rate': 0.1,  # increased from 0.05\n",
    "            'feature_fraction': 0.8,\n",
    "            'num_threads': -1,  # Use all CPU cores\n",
    "            'verbosity': -1  # Reduce verbosity\n",
    "        }\n",
    "    \n",
    "    dicts = df_train.to_dict(orient='records')\n",
    "    dv = DictVectorizer(sparse=True)\n",
    "    X_train = dv.fit_transform(dicts)\n",
    "    \n",
    "    train_data = lgb.Dataset(X_train, label=y_train)\n",
    "    \n",
    "    # Add progress bar\n",
    "    print(\"Training LightGBM model...\")\n",
    "    model = lgb.train(\n",
    "        params, \n",
    "        train_data, \n",
    "        num_boost_round=50,  # reduced from 100\n",
    "        callbacks=[lgb.log_evaluation(period=10)]\n",
    "    )\n",
    "    \n",
    "    return dv, model"
   ]
  },
  {
   "cell_type": "code",
   "execution_count": 11,
   "id": "9738f764-4389-444c-a25c-037a4aca444f",
   "metadata": {},
   "outputs": [],
   "source": [
    "def predict(df, dv, model):\n",
    "    dicts = df.to_dict(orient='records')\n",
    "\n",
    "    X = dv.transform(dicts)\n",
    "    y_pred = model.predict(X)\n",
    "\n",
    "    return y_pred\n",
    "\n",
    "def rmse(y, y_pred):\n",
    "    error = y_pred - y\n",
    "    mse = (error ** 2).mean()\n",
    "    return np.sqrt(mse)"
   ]
  },
  {
   "cell_type": "code",
   "execution_count": 12,
   "id": "f8376761-5cda-4d9b-aa95-1041c2f54666",
   "metadata": {},
   "outputs": [
    {
     "name": "stdout",
     "output_type": "stream",
     "text": [
      "Training LightGBM model...\n"
     ]
    }
   ],
   "source": [
    "# Train model\n",
    "dv, lgb_model = train_lgbm(df_train, y_train)"
   ]
  },
  {
   "cell_type": "code",
   "execution_count": 13,
   "id": "6f673a8f-1684-4e6c-946a-90bea49daac0",
   "metadata": {},
   "outputs": [
    {
     "name": "stdout",
     "output_type": "stream",
     "text": [
      "LightGBM RMSE: 13.717\n"
     ]
    }
   ],
   "source": [
    "# Make predictions on val\n",
    "y_pred = predict(df_val, dv, lgb_model)\n",
    "print('LightGBM RMSE:', round(rmse(y_val, y_pred), 3))"
   ]
  },
  {
   "cell_type": "code",
   "execution_count": 14,
   "id": "04b036c2-1c23-4f9b-9377-e8c3c5800213",
   "metadata": {},
   "outputs": [
    {
     "name": "stdout",
     "output_type": "stream",
     "text": [
      "LightGBM RMSE: 12.487\n"
     ]
    }
   ],
   "source": [
    "# Make predictions on test\n",
    "y_pred = predict(df_test, dv, lgb_model)\n",
    "print('LightGBM RMSE:', round(rmse(y_test, y_pred), 3))"
   ]
  },
  {
   "cell_type": "code",
   "execution_count": 15,
   "id": "040d1bad-7d9b-49f8-bae9-fd1a832e67e9",
   "metadata": {},
   "outputs": [
    {
     "data": {
      "text/html": [
       "<div>\n",
       "<style scoped>\n",
       "    .dataframe tbody tr th:only-of-type {\n",
       "        vertical-align: middle;\n",
       "    }\n",
       "\n",
       "    .dataframe tbody tr th {\n",
       "        vertical-align: top;\n",
       "    }\n",
       "\n",
       "    .dataframe thead th {\n",
       "        text-align: right;\n",
       "    }\n",
       "</style>\n",
       "<table border=\"1\" class=\"dataframe\">\n",
       "  <thead>\n",
       "    <tr style=\"text-align: right;\">\n",
       "      <th></th>\n",
       "      <th>row_id</th>\n",
       "      <th>item_id</th>\n",
       "      <th>store_id</th>\n",
       "      <th>date</th>\n",
       "    </tr>\n",
       "  </thead>\n",
       "  <tbody>\n",
       "    <tr>\n",
       "      <th>0</th>\n",
       "      <td>0</td>\n",
       "      <td>c578da8e8841</td>\n",
       "      <td>1</td>\n",
       "      <td>27.09.2024</td>\n",
       "    </tr>\n",
       "    <tr>\n",
       "      <th>1</th>\n",
       "      <td>1</td>\n",
       "      <td>c578da8e8841</td>\n",
       "      <td>1</td>\n",
       "      <td>28.09.2024</td>\n",
       "    </tr>\n",
       "    <tr>\n",
       "      <th>2</th>\n",
       "      <td>2</td>\n",
       "      <td>c578da8e8841</td>\n",
       "      <td>1</td>\n",
       "      <td>29.09.2024</td>\n",
       "    </tr>\n",
       "    <tr>\n",
       "      <th>3</th>\n",
       "      <td>3</td>\n",
       "      <td>c578da8e8841</td>\n",
       "      <td>1</td>\n",
       "      <td>30.09.2024</td>\n",
       "    </tr>\n",
       "    <tr>\n",
       "      <th>4</th>\n",
       "      <td>4</td>\n",
       "      <td>c578da8e8841</td>\n",
       "      <td>1</td>\n",
       "      <td>01.10.2024</td>\n",
       "    </tr>\n",
       "  </tbody>\n",
       "</table>\n",
       "</div>"
      ],
      "text/plain": [
       "   row_id       item_id  store_id        date\n",
       "0       0  c578da8e8841         1  27.09.2024\n",
       "1       1  c578da8e8841         1  28.09.2024\n",
       "2       2  c578da8e8841         1  29.09.2024\n",
       "3       3  c578da8e8841         1  30.09.2024\n",
       "4       4  c578da8e8841         1  01.10.2024"
      ]
     },
     "execution_count": 15,
     "metadata": {},
     "output_type": "execute_result"
    }
   ],
   "source": [
    "test = pd.read_csv('../data/test.csv', sep=';')\n",
    "test.head()"
   ]
  },
  {
   "cell_type": "code",
   "execution_count": 16,
   "id": "de1c3561-8954-4064-8022-183627bd9c45",
   "metadata": {},
   "outputs": [],
   "source": [
    "def prepare_test_data(test_df):\n",
    "    # Convert date to datetime\n",
    "    test_df['date'] = pd.to_datetime(test_df['date'], format='%d.%m.%Y')\n",
    "    \n",
    "    # Create time features\n",
    "    test_df['year'] = test_df['date'].dt.year\n",
    "    test_df['month'] = test_df['date'].dt.month\n",
    "    test_df['day_of_week'] = test_df['date'].dt.dayofweek\n",
    "    \n",
    "    # Convert to string type\n",
    "    test_df['date'] = test_df['date'].astype(str)\n",
    "    test_df['store_id'] = test_df['store_id'].astype(str)\n",
    "    test_df['year'] = test_df['year'].astype(str)\n",
    "    test_df['month'] = test_df['month'].astype(str)\n",
    "    test_df['day_of_week'] = test_df['day_of_week'].astype(str)\n",
    "    \n",
    "    return test_df"
   ]
  },
  {
   "cell_type": "code",
   "execution_count": 17,
   "id": "a1621702-131c-406f-9d6a-a7fae2dadd17",
   "metadata": {},
   "outputs": [],
   "source": [
    "processed_test = prepare_test_data(test)"
   ]
  },
  {
   "cell_type": "code",
   "execution_count": 18,
   "id": "34057089-2ed1-4877-8646-2cf71c7b77ec",
   "metadata": {},
   "outputs": [],
   "source": [
    "test_predictions = predict(processed_test, dv, lgb_model)"
   ]
  },
  {
   "cell_type": "code",
   "execution_count": 19,
   "id": "b3ecae53-a42d-42a2-8a4c-5913687a1823",
   "metadata": {},
   "outputs": [],
   "source": [
    "submission = pd.DataFrame({\n",
    "    'row_id': test['row_id'],\n",
    "    'quantity': test_predictions\n",
    "})"
   ]
  },
  {
   "cell_type": "code",
   "execution_count": 20,
   "id": "653d256a-5b4b-4c1d-8e38-0bccdb1f3454",
   "metadata": {},
   "outputs": [],
   "source": [
    "submission.to_csv('submission_lgbm_20250109.csv', index=False)"
   ]
  }
 ],
 "metadata": {
  "kernelspec": {
   "display_name": "Python 3 (ipykernel)",
   "language": "python",
   "name": "python3"
  },
  "language_info": {
   "codemirror_mode": {
    "name": "ipython",
    "version": 3
   },
   "file_extension": ".py",
   "mimetype": "text/x-python",
   "name": "python",
   "nbconvert_exporter": "python",
   "pygments_lexer": "ipython3",
   "version": "3.11.5"
  }
 },
 "nbformat": 4,
 "nbformat_minor": 5
}
