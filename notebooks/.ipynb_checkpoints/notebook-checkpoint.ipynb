{
 "cells": [
  {
   "cell_type": "markdown",
   "metadata": {},
   "source": [
    "# Retail Demand Forecasting Analysis\n",
    "\n",
    "This notebook contains the analysis for the ML Zoomcamp 2024 Competition focusing on retail demand forecasting."
   ]
  },
  {
   "cell_type": "markdown",
   "metadata": {},
   "source": [
    "## Data Loading\n",
    "\n",
    "Loading all CSV files from the competition dataset:"
   ]
  },
  {
   "cell_type": "code",
   "execution_count": 50,
   "metadata": {},
   "outputs": [],
   "source": [
    "import pandas as pd\n",
    "import numpy as np\n",
    "from tqdm import tqdm\n",
    "import lightgbm as lgb\n",
    "from matplotlib import pyplot as plt\n",
    "%matplotlib inline\n",
    "from sklearn.model_selection import train_test_split\n",
    "from sklearn.feature_extraction import DictVectorizer\n",
    "from sklearn.linear_model import LogisticRegression\n",
    "from sklearn.metrics import roc_auc_score\n",
    "from sklearn.model_selection import KFold\n",
    "from sklearn.tree import DecisionTreeRegressor\n",
    "from sklearn.ensemble import RandomForestRegressor"
   ]
  },
  {
   "cell_type": "code",
   "execution_count": 3,
   "metadata": {},
   "outputs": [],
   "source": [
    "# Load all CSV files\n",
    "actual_matrix = pd.read_csv('../data/actual_matrix.csv', index_col=0)\n",
    "catalog = pd.read_csv('../data/catalog.csv', index_col=0)\n",
    "discounts = pd.read_csv('../data/discounts_history.csv', index_col=0)\n",
    "markdowns = pd.read_csv('../data/markdowns.csv', index_col=0)\n",
    "online = pd.read_csv('../data/online.csv', index_col=0)\n",
    "price_history = pd.read_csv('../data/price_history.csv', index_col=0)\n",
    "sales = pd.read_csv('../data/sales.csv', index_col=0)\n",
    "stores = pd.read_csv('../data/stores.csv', index_col=0)\n",
    "test = pd.read_csv('../data/test.csv', index_col=0)"
   ]
  },
  {
   "cell_type": "markdown",
   "metadata": {},
   "source": [
    "## EDA\n",
    "\n",
    "Key aspects to analyze:\n",
    "1. Data completeness (missing values)\n",
    "2. Data types and potential type conversions\n",
    "3. Value distributions\n",
    "4. Temporal patterns (for time-series data)\n",
    "5. Relationships between different datasets"
   ]
  },
  {
   "cell_type": "code",
   "execution_count": 4,
   "metadata": {},
   "outputs": [
    {
     "name": "stdout",
     "output_type": "stream",
     "text": [
      "\n",
      "Actual Matrix Dataset:\n",
      "Shape: (35202, 3)\n",
      "\n",
      "Columns:\n",
      "['item_id', 'date', 'store_id']\n",
      "\n",
      "Sample data:\n",
      "        item_id        date  store_id\n",
      "0  c578da8e8841  2019-10-17         1\n",
      "1  4dd2b686802c  2019-10-17         1\n",
      "\n",
      "Data Info:\n",
      "<class 'pandas.core.frame.DataFrame'>\n",
      "Index: 35202 entries, 0 to 35201\n",
      "Data columns (total 3 columns):\n",
      " #   Column    Non-Null Count  Dtype \n",
      "---  ------    --------------  ----- \n",
      " 0   item_id   35202 non-null  object\n",
      " 1   date      35202 non-null  object\n",
      " 2   store_id  35202 non-null  int64 \n",
      "dtypes: int64(1), object(2)\n",
      "memory usage: 1.1+ MB\n",
      "\n",
      "Catalog Dataset:\n",
      "Shape: (219810, 8)\n",
      "\n",
      "Columns:\n",
      "['item_id', 'dept_name', 'class_name', 'subclass_name', 'item_type', 'weight_volume', 'weight_netto', 'fatness']\n",
      "\n",
      "Sample data:\n",
      "        item_id                 dept_name          class_name  \\\n",
      "0  da17e2d5feda  БУМАЖНО-ВАТНАЯ ПРОДУКЦИЯ  БУМАЖНАЯ ПРОДУКЦИЯ   \n",
      "1  614de2b96018  БУМАЖНО-ВАТНАЯ ПРОДУКЦИЯ    ВАТНАЯ ПРОДУКЦИЯ   \n",
      "\n",
      "      subclass_name item_type  weight_volume  weight_netto  fatness  \n",
      "0  ВЛАЖНЫЕ САЛФЕТКИ       NaN          150.0           NaN      NaN  \n",
      "1      ВАТНЫЕ ДИСКИ       NaN           30.0           NaN      NaN  \n",
      "\n",
      "Data Info:\n",
      "<class 'pandas.core.frame.DataFrame'>\n",
      "Index: 219810 entries, 0 to 219810\n",
      "Data columns (total 8 columns):\n",
      " #   Column         Non-Null Count   Dtype  \n",
      "---  ------         --------------   -----  \n",
      " 0   item_id        219810 non-null  object \n",
      " 1   dept_name      219810 non-null  object \n",
      " 2   class_name     219810 non-null  object \n",
      " 3   subclass_name  219810 non-null  object \n",
      " 4   item_type      43586 non-null   object \n",
      " 5   weight_volume  82952 non-null   float64\n",
      " 6   weight_netto   48957 non-null   float64\n",
      " 7   fatness        7212 non-null    float64\n",
      "dtypes: float64(3), object(5)\n",
      "memory usage: 15.1+ MB\n",
      "\n",
      "Discounts History Dataset:\n",
      "Shape: (3746744, 8)\n",
      "\n",
      "Columns:\n",
      "['date', 'item_id', 'sale_price_before_promo', 'sale_price_time_promo', 'promo_type_code', 'doc_id', 'number_disc_day', 'store_id']\n",
      "\n",
      "Sample data:\n",
      "               date       item_id  sale_price_before_promo  \\\n",
      "3648316  2022-08-28  cde97a9ec3ef                    729.9   \n",
      "3648317  2022-08-28  2906fbc9e11c                    129.9   \n",
      "\n",
      "         sale_price_time_promo  promo_type_code  \\\n",
      "3648316                  669.9              6.0   \n",
      "3648317                   99.9              NaN   \n",
      "\n",
      "                                       doc_id  number_disc_day  store_id  \n",
      "3648316  89ea9f0c-1c08-11ed-ad4d-005056861040             13.0         1  \n",
      "3648317  039e85df-1e51-11ed-ad4d-005056861040             11.0         1  \n",
      "\n",
      "Data Info:\n",
      "<class 'pandas.core.frame.DataFrame'>\n",
      "Index: 3746744 entries, 3648316 to 11420932\n",
      "Data columns (total 8 columns):\n",
      " #   Column                   Dtype  \n",
      "---  ------                   -----  \n",
      " 0   date                     object \n",
      " 1   item_id                  object \n",
      " 2   sale_price_before_promo  float64\n",
      " 3   sale_price_time_promo    float64\n",
      " 4   promo_type_code          float64\n",
      " 5   doc_id                   object \n",
      " 6   number_disc_day          float64\n",
      " 7   store_id                 int64  \n",
      "dtypes: float64(4), int64(1), object(3)\n",
      "memory usage: 257.3+ MB\n",
      "\n",
      "Markdowns Dataset:\n",
      "Shape: (8979, 6)\n",
      "\n",
      "Columns:\n",
      "['date', 'item_id', 'normal_price', 'price', 'quantity', 'store_id']\n",
      "\n",
      "Sample data:\n",
      "         date       item_id  normal_price  price  quantity  store_id\n",
      "0  2023-08-01  bc2f82a22e11         189.0  100.0       8.0         1\n",
      "1  2023-08-01  389412076801         179.0  100.0       5.0         1\n",
      "\n",
      "Data Info:\n",
      "<class 'pandas.core.frame.DataFrame'>\n",
      "Index: 8979 entries, 0 to 35037\n",
      "Data columns (total 6 columns):\n",
      " #   Column        Non-Null Count  Dtype  \n",
      "---  ------        --------------  -----  \n",
      " 0   date          8979 non-null   object \n",
      " 1   item_id       8979 non-null   object \n",
      " 2   normal_price  8979 non-null   float64\n",
      " 3   price         8979 non-null   float64\n",
      " 4   quantity      8979 non-null   float64\n",
      " 5   store_id      8979 non-null   int64  \n",
      "dtypes: float64(3), int64(1), object(2)\n",
      "memory usage: 491.0+ KB\n",
      "\n",
      "Online Dataset:\n",
      "Shape: (1123412, 6)\n",
      "\n",
      "Columns:\n",
      "['date', 'item_id', 'quantity', 'price_base', 'sum_total', 'store_id']\n",
      "\n",
      "Sample data:\n",
      "         date       item_id  quantity  price_base  sum_total  store_id\n",
      "0  2023-08-04  4aa8dbe05246       3.0       12.40      37.21         1\n",
      "1  2023-08-04  4e0fbcf99cf9       2.0       56.27     112.54         1\n",
      "\n",
      "Data Info:\n",
      "<class 'pandas.core.frame.DataFrame'>\n",
      "Index: 1123412 entries, 0 to 2350901\n",
      "Data columns (total 6 columns):\n",
      " #   Column      Non-Null Count    Dtype  \n",
      "---  ------      --------------    -----  \n",
      " 0   date        1123412 non-null  object \n",
      " 1   item_id     1123412 non-null  object \n",
      " 2   quantity    1123412 non-null  float64\n",
      " 3   price_base  1123412 non-null  float64\n",
      " 4   sum_total   1123412 non-null  float64\n",
      " 5   store_id    1123412 non-null  int64  \n",
      "dtypes: float64(3), int64(1), object(2)\n",
      "memory usage: 60.0+ MB\n",
      "\n",
      "Price History Dataset:\n",
      "Shape: (698626, 5)\n",
      "\n",
      "Columns:\n",
      "['date', 'item_id', 'price', 'code', 'store_id']\n",
      "\n",
      "Sample data:\n",
      "         date       item_id  price        code  store_id\n",
      "0  2023-08-01  4a1f95fe4d4b  499.9           1         1\n",
      "1  2023-08-01  bf43a9d3ae13    0.0  9999999999         1\n",
      "\n",
      "Data Info:\n",
      "<class 'pandas.core.frame.DataFrame'>\n",
      "Index: 698626 entries, 0 to 1885032\n",
      "Data columns (total 5 columns):\n",
      " #   Column    Non-Null Count   Dtype  \n",
      "---  ------    --------------   -----  \n",
      " 0   date      698626 non-null  object \n",
      " 1   item_id   698626 non-null  object \n",
      " 2   price     698626 non-null  float64\n",
      " 3   code      698626 non-null  int64  \n",
      " 4   store_id  698626 non-null  int64  \n",
      "dtypes: float64(1), int64(2), object(2)\n",
      "memory usage: 32.0+ MB\n",
      "\n",
      "Sales Dataset:\n",
      "Shape: (7432685, 6)\n",
      "\n",
      "Columns:\n",
      "['date', 'item_id', 'quantity', 'price_base', 'sum_total', 'store_id']\n",
      "\n",
      "Sample data:\n",
      "         date       item_id  quantity  price_base  sum_total  store_id\n",
      "0  2023-08-04  293375605257       1.0       47.86      47.86         1\n",
      "1  2023-08-04  a66fdf2c0ae7       3.0       49.60     148.80         1\n",
      "\n",
      "Data Info:\n",
      "<class 'pandas.core.frame.DataFrame'>\n",
      "Index: 7432685 entries, 0 to 21739589\n",
      "Data columns (total 6 columns):\n",
      " #   Column      Dtype  \n",
      "---  ------      -----  \n",
      " 0   date        object \n",
      " 1   item_id     object \n",
      " 2   quantity    float64\n",
      " 3   price_base  float64\n",
      " 4   sum_total   float64\n",
      " 5   store_id    int64  \n",
      "dtypes: float64(3), int64(1), object(2)\n",
      "memory usage: 396.9+ MB\n",
      "\n",
      "Stores Dataset:\n",
      "Shape: (4, 5)\n",
      "\n",
      "Columns:\n",
      "['store_id', 'division', 'format', 'city', 'area']\n",
      "\n",
      "Sample data:\n",
      "   store_id division            format   city  area\n",
      "0         4     Div1          MaxiEuro  City3  1887\n",
      "1         3     Div2  Format-7 express  City2   109\n",
      "\n",
      "Data Info:\n",
      "<class 'pandas.core.frame.DataFrame'>\n",
      "Index: 4 entries, 0 to 3\n",
      "Data columns (total 5 columns):\n",
      " #   Column    Non-Null Count  Dtype \n",
      "---  ------    --------------  ----- \n",
      " 0   store_id  4 non-null      int64 \n",
      " 1   division  4 non-null      object\n",
      " 2   format    4 non-null      object\n",
      " 3   city      4 non-null      object\n",
      " 4   area      4 non-null      int64 \n",
      "dtypes: int64(2), object(3)\n",
      "memory usage: 192.0+ bytes\n",
      "\n",
      "Test Dataset:\n",
      "Shape: (883680, 0)\n",
      "\n",
      "Columns:\n",
      "[]\n",
      "\n",
      "Sample data:\n",
      "Empty DataFrame\n",
      "Columns: []\n",
      "Index: [0;c578da8e8841;1;27.09.2024, 1;c578da8e8841;1;28.09.2024]\n",
      "\n",
      "Data Info:\n",
      "<class 'pandas.core.frame.DataFrame'>\n",
      "Index: 883680 entries, 0;c578da8e8841;1;27.09.2024 to 883679;1fea1f54a7ec;4;26.10.2024\n",
      "Empty DataFrame\n"
     ]
    }
   ],
   "source": [
    "# Display basic information about each dataset\n",
    "for name, df in {\n",
    "    'Actual Matrix': actual_matrix,\n",
    "    'Catalog': catalog,\n",
    "    'Discounts History': discounts,\n",
    "    'Markdowns': markdowns,\n",
    "    'Online': online,\n",
    "    'Price History': price_history,\n",
    "    'Sales': sales,\n",
    "    'Stores': stores,\n",
    "    'Test': test\n",
    "}.items():\n",
    "    print(f\"\\n{name} Dataset:\")\n",
    "    print(f\"Shape: {df.shape}\")\n",
    "    print(\"\\nColumns:\")\n",
    "    print(df.columns.tolist())\n",
    "    print(\"\\nSample data:\")\n",
    "    print(df.head(2))\n",
    "    print(\"\\nData Info:\")\n",
    "    df.info()"
   ]
  },
  {
   "cell_type": "code",
   "execution_count": 6,
   "metadata": {},
   "outputs": [
    {
     "name": "stdout",
     "output_type": "stream",
     "text": [
      "Missing Values Analysis:\n",
      "\n",
      "\n",
      "Actual Matrix Dataset: No missing values\n",
      "\n",
      "Catalog Dataset Missing Values:\n",
      "item_type        176224\n",
      "weight_volume    136858\n",
      "weight_netto     170853\n",
      "fatness          212598\n",
      "dtype: int64\n",
      "\n",
      "Discounts History Dataset Missing Values:\n",
      "promo_type_code    317846\n",
      "dtype: int64\n",
      "\n",
      "Markdowns Dataset: No missing values\n",
      "\n",
      "Online Dataset: No missing values\n",
      "\n",
      "Price History Dataset: No missing values\n",
      "\n",
      "Sales Dataset: No missing values\n",
      "\n",
      "Stores Dataset: No missing values\n",
      "\n",
      "Test Dataset: No missing values\n"
     ]
    }
   ],
   "source": [
    "# Analyze missing values in each dataset\n",
    "print(\"Missing Values Analysis:\\n\")\n",
    "\n",
    "for name, df in {\n",
    "    'Actual Matrix': actual_matrix,\n",
    "    'Catalog': catalog,\n",
    "    'Discounts History': discounts,\n",
    "    'Markdowns': markdowns,\n",
    "    'Online': online,\n",
    "    'Price History': price_history,\n",
    "    'Sales': sales,\n",
    "    'Stores': stores,\n",
    "    'Test': test\n",
    "}.items():\n",
    "    missing = df.isnull().sum()\n",
    "    if missing.any():\n",
    "        print(f\"\\n{name} Dataset Missing Values:\")\n",
    "        print(missing[missing > 0])\n",
    "    else:\n",
    "        print(f\"\\n{name} Dataset: No missing values\")"
   ]
  },
  {
   "cell_type": "markdown",
   "metadata": {},
   "source": [
    "## Data Cleaning\n",
    "\n",
    "In this section, we will:\n",
    "1. Remove or handle outliers\n",
    "2. Handle missing values\n",
    "3. Format dates and categorical variables\n",
    "4. Create any necessary derived features"
   ]
  },
  {
   "cell_type": "code",
   "execution_count": 28,
   "metadata": {},
   "outputs": [],
   "source": [
    "# combine offline and online data\n",
    "sales['channel'] = 'offline'\n",
    "online['channel'] = 'online'\n",
    "all_sales = pd.concat([sales, online], ignore_index=True)"
   ]
  },
  {
   "cell_type": "code",
   "execution_count": 29,
   "metadata": {},
   "outputs": [],
   "source": [
    "# Convert date to datetime\n",
    "all_sales['date'] = pd.to_datetime(all_sales['date'])\n",
    "\n",
    "# Create basic time features\n",
    "all_sales['year'] = all_sales['date'].dt.year\n",
    "all_sales['month'] = all_sales['date'].dt.month\n",
    "all_sales['day'] = all_sales['date'].dt.day\n",
    "all_sales['day_of_week'] = all_sales['date'].dt.dayofweek"
   ]
  },
  {
   "cell_type": "code",
   "execution_count": 30,
   "metadata": {},
   "outputs": [],
   "source": [
    "# Fill missing values in catalog\n",
    "catalog['dept_name'] = catalog['dept_name'].fillna('Unknown')\n",
    "catalog['class_name'] = catalog['class_name'].fillna('Unknown')\n",
    "\n",
    "# Merge with catalog and stores\n",
    "all_sales = all_sales.merge(catalog[['item_id', 'dept_name', 'class_name']], \n",
    "                            on='item_id', how='left')\n",
    "all_sales = all_sales.merge(stores[['store_id', 'format', 'city']], \n",
    "                            on='store_id', how='left')"
   ]
  },
  {
   "cell_type": "code",
   "execution_count": 31,
   "metadata": {},
   "outputs": [
    {
     "data": {
      "text/html": [
       "<div>\n",
       "<style scoped>\n",
       "    .dataframe tbody tr th:only-of-type {\n",
       "        vertical-align: middle;\n",
       "    }\n",
       "\n",
       "    .dataframe tbody tr th {\n",
       "        vertical-align: top;\n",
       "    }\n",
       "\n",
       "    .dataframe thead th {\n",
       "        text-align: right;\n",
       "    }\n",
       "</style>\n",
       "<table border=\"1\" class=\"dataframe\">\n",
       "  <thead>\n",
       "    <tr style=\"text-align: right;\">\n",
       "      <th></th>\n",
       "      <th>date</th>\n",
       "      <th>item_id</th>\n",
       "      <th>quantity</th>\n",
       "      <th>price_base</th>\n",
       "      <th>sum_total</th>\n",
       "      <th>store_id</th>\n",
       "      <th>channel</th>\n",
       "      <th>year</th>\n",
       "      <th>month</th>\n",
       "      <th>day</th>\n",
       "      <th>day_of_week</th>\n",
       "      <th>dept_name</th>\n",
       "      <th>class_name</th>\n",
       "      <th>format</th>\n",
       "      <th>city</th>\n",
       "    </tr>\n",
       "  </thead>\n",
       "  <tbody>\n",
       "    <tr>\n",
       "      <th>0</th>\n",
       "      <td>2023-08-04</td>\n",
       "      <td>293375605257</td>\n",
       "      <td>1.000</td>\n",
       "      <td>47.86</td>\n",
       "      <td>47.86</td>\n",
       "      <td>1</td>\n",
       "      <td>offline</td>\n",
       "      <td>2023</td>\n",
       "      <td>8</td>\n",
       "      <td>4</td>\n",
       "      <td>4</td>\n",
       "      <td>ПРИКАССА</td>\n",
       "      <td>ЖЕВАТЕЛЬНАЯ РЕЗИНКА</td>\n",
       "      <td>Format-1</td>\n",
       "      <td>City1</td>\n",
       "    </tr>\n",
       "    <tr>\n",
       "      <th>1</th>\n",
       "      <td>2023-08-04</td>\n",
       "      <td>a66fdf2c0ae7</td>\n",
       "      <td>3.000</td>\n",
       "      <td>49.60</td>\n",
       "      <td>148.80</td>\n",
       "      <td>1</td>\n",
       "      <td>offline</td>\n",
       "      <td>2023</td>\n",
       "      <td>8</td>\n",
       "      <td>4</td>\n",
       "      <td>4</td>\n",
       "      <td>ЛИМОНАДЫ</td>\n",
       "      <td>НЕКОЛОСОДЕРЖАЩИЕ</td>\n",
       "      <td>Format-1</td>\n",
       "      <td>City1</td>\n",
       "    </tr>\n",
       "    <tr>\n",
       "      <th>2</th>\n",
       "      <td>2023-08-04</td>\n",
       "      <td>daa46ef49b7a</td>\n",
       "      <td>0.822</td>\n",
       "      <td>379.00</td>\n",
       "      <td>311.54</td>\n",
       "      <td>1</td>\n",
       "      <td>offline</td>\n",
       "      <td>2023</td>\n",
       "      <td>8</td>\n",
       "      <td>4</td>\n",
       "      <td>4</td>\n",
       "      <td>СЛОЙКА</td>\n",
       "      <td>СЛОЙКА</td>\n",
       "      <td>Format-1</td>\n",
       "      <td>City1</td>\n",
       "    </tr>\n",
       "    <tr>\n",
       "      <th>3</th>\n",
       "      <td>2023-08-04</td>\n",
       "      <td>a3b49c1bf758</td>\n",
       "      <td>1.000</td>\n",
       "      <td>129.00</td>\n",
       "      <td>129.00</td>\n",
       "      <td>1</td>\n",
       "      <td>offline</td>\n",
       "      <td>2023</td>\n",
       "      <td>8</td>\n",
       "      <td>4</td>\n",
       "      <td>4</td>\n",
       "      <td>ПЕРСОНАЛЬНЫЙ УХОД</td>\n",
       "      <td>ДЛЯ ВАННЫ И ДУША</td>\n",
       "      <td>Format-1</td>\n",
       "      <td>City1</td>\n",
       "    </tr>\n",
       "    <tr>\n",
       "      <th>4</th>\n",
       "      <td>2023-08-04</td>\n",
       "      <td>ab611c5cef62</td>\n",
       "      <td>7.000</td>\n",
       "      <td>79.90</td>\n",
       "      <td>559.30</td>\n",
       "      <td>1</td>\n",
       "      <td>offline</td>\n",
       "      <td>2023</td>\n",
       "      <td>8</td>\n",
       "      <td>4</td>\n",
       "      <td>4</td>\n",
       "      <td>СОВРЕМЕННАЯ МОЛОЧНАЯ КАТЕГОРИЯ</td>\n",
       "      <td>ЙОГУРТЫ</td>\n",
       "      <td>Format-1</td>\n",
       "      <td>City1</td>\n",
       "    </tr>\n",
       "  </tbody>\n",
       "</table>\n",
       "</div>"
      ],
      "text/plain": [
       "        date       item_id  quantity  price_base  sum_total  store_id  \\\n",
       "0 2023-08-04  293375605257     1.000       47.86      47.86         1   \n",
       "1 2023-08-04  a66fdf2c0ae7     3.000       49.60     148.80         1   \n",
       "2 2023-08-04  daa46ef49b7a     0.822      379.00     311.54         1   \n",
       "3 2023-08-04  a3b49c1bf758     1.000      129.00     129.00         1   \n",
       "4 2023-08-04  ab611c5cef62     7.000       79.90     559.30         1   \n",
       "\n",
       "   channel  year  month  day  day_of_week                       dept_name  \\\n",
       "0  offline  2023      8    4            4                        ПРИКАССА   \n",
       "1  offline  2023      8    4            4                        ЛИМОНАДЫ   \n",
       "2  offline  2023      8    4            4                          СЛОЙКА   \n",
       "3  offline  2023      8    4            4               ПЕРСОНАЛЬНЫЙ УХОД   \n",
       "4  offline  2023      8    4            4  СОВРЕМЕННАЯ МОЛОЧНАЯ КАТЕГОРИЯ   \n",
       "\n",
       "            class_name    format   city  \n",
       "0  ЖЕВАТЕЛЬНАЯ РЕЗИНКА  Format-1  City1  \n",
       "1     НЕКОЛОСОДЕРЖАЩИЕ  Format-1  City1  \n",
       "2               СЛОЙКА  Format-1  City1  \n",
       "3     ДЛЯ ВАННЫ И ДУША  Format-1  City1  \n",
       "4              ЙОГУРТЫ  Format-1  City1  "
      ]
     },
     "execution_count": 31,
     "metadata": {},
     "output_type": "execute_result"
    }
   ],
   "source": [
    "all_sales.head()"
   ]
  },
  {
   "cell_type": "code",
   "execution_count": 12,
   "metadata": {},
   "outputs": [
    {
     "data": {
      "image/png": "[encoded data removed]",
      "text/plain": [
       "<Figure size 1200x600 with 1 Axes>"
      ]
     },
     "metadata": {},
     "output_type": "display_data"
    }
   ],
   "source": [
    "# Distribution of quantity\n",
    "plt.figure(figsize=(12, 6))\n",
    "sns.histplot(data=all_sales, x='quantity', bins=50)\n",
    "plt.title('Distribution of Sales Quantity')\n",
    "plt.xlabel('Quantity')\n",
    "plt.ylabel('Count')\n",
    "plt.show()"
   ]
  },
  {
   "cell_type": "code",
   "execution_count": 13,
   "metadata": {},
   "outputs": [
    {
     "data": {
      "image/png": "[encoded data removed]",
      "text/plain": [
       "<Figure size 1000x600 with 1 Axes>"
      ]
     },
     "metadata": {},
     "output_type": "display_data"
    }
   ],
   "source": [
    "# Box plot of quantity by channel\n",
    "plt.figure(figsize=(10, 6))\n",
    "sns.boxplot(data=all_sales, x='channel', y='quantity')\n",
    "plt.title('Quantity Distribution by Channel')\n",
    "plt.show()"
   ]
  },
  {
   "cell_type": "code",
   "execution_count": 14,
   "metadata": {},
   "outputs": [
    {
     "data": {
      "image/png": "[encoded data removed]",
      "text/plain": [
       "<Figure size 1000x800 with 2 Axes>"
      ]
     },
     "metadata": {},
     "output_type": "display_data"
    }
   ],
   "source": [
    "# Correlation analysis for numerical features\n",
    "numerical_cols = ['quantity', 'price_base', 'sum_total', 'year', 'month', 'day', 'day_of_week']\n",
    "correlation_matrix = all_sales[numerical_cols].corr()\n",
    "\n",
    "plt.figure(figsize=(10, 8))\n",
    "sns.heatmap(correlation_matrix, annot=True, cmap='coolwarm', center=0)\n",
    "plt.title('Correlation Matrix of Numerical Features')\n",
    "plt.show()\n"
   ]
  },
  {
   "cell_type": "markdown",
   "metadata": {},
   "source": [
    "price and day_of_week could be a good indicator for prediction"
   ]
  },
  {
   "cell_type": "code",
   "execution_count": 15,
   "metadata": {},
   "outputs": [
    {
     "name": "stdout",
     "output_type": "stream",
     "text": [
      "\n",
      "Average Quantity by channel:\n",
      "channel\n",
      "offline    5.642398\n",
      "online     2.194757\n",
      "Name: quantity, dtype: float64\n",
      "\n",
      "Average Quantity by dept_name:\n",
      "dept_name\n",
      "ВСПОМОГАТЕЛЬНАЯ ГРУППА    201.008619\n",
      "ДОМАШНЯЯ КУХНЯ            192.094848\n",
      "КАФЕ                       31.558320\n",
      "ПИРОГИ                     22.577159\n",
      "ЯЙЦО                       18.574995\n",
      "Name: quantity, dtype: float64\n",
      "\n",
      "Average Quantity by class_name:\n",
      "class_name\n",
      "ПЛАТНЫЕ ПАКЕТЫ     426.780408\n",
      "ДОМАШНЯЯ КУХНЯ     192.094848\n",
      "УСЛУГА И АРЕНДА    120.355187\n",
      "БАНАНЫ              68.422704\n",
      "АРБУЗЫ,ДЫНИ         41.033591\n",
      "Name: quantity, dtype: float64\n",
      "\n",
      "Average Quantity by format:\n",
      "format\n",
      "Format-7 express    5.725016\n",
      "Format-1            5.497806\n",
      "MaxiEuro            5.296386\n",
      "Format-6            3.661610\n",
      "Name: quantity, dtype: float64\n",
      "\n",
      "Average Quantity by city:\n",
      "city\n",
      "City2    5.725016\n",
      "City3    5.296386\n",
      "City1    5.081295\n",
      "Name: quantity, dtype: float64\n"
     ]
    }
   ],
   "source": [
    "# Average quantity by categorical features\n",
    "categorical_analysis = []\n",
    "for cat_col in ['channel', 'dept_name', 'class_name', 'format', 'city']:\n",
    "    avg_quantity = all_sales.groupby(cat_col)['quantity'].mean().sort_values(ascending=False)\n",
    "    print(f\"\\nAverage Quantity by {cat_col}:\")\n",
    "    print(avg_quantity.head())"
   ]
  },
  {
   "cell_type": "code",
   "execution_count": 32,
   "metadata": {},
   "outputs": [
    {
     "name": "stdout",
     "output_type": "stream",
     "text": [
      "Original data shape: (8556097, 15)\n",
      "Filtered data shape: (8388037, 15)\n",
      "\n",
      "Quantity range after filtering:\n",
      "Min: 0.21\n",
      "Max: 53.00\n"
     ]
    },
    {
     "data": {
      "image/png": "[encoded data removed]",
      "text/plain": [
       "<Figure size 1200x600 with 1 Axes>"
      ]
     },
     "metadata": {},
     "output_type": "display_data"
    },
    {
     "data": {
      "image/png": "[encoded data removed]",
      "text/plain": [
       "<Figure size 1000x600 with 1 Axes>"
      ]
     },
     "metadata": {},
     "output_type": "display_data"
    },
    {
     "data": {
      "image/png": "[encoded data removed]",
      "text/plain": [
       "<Figure size 1000x800 with 2 Axes>"
      ]
     },
     "metadata": {},
     "output_type": "display_data"
    }
   ],
   "source": [
    "# Calculate 1st and 99th percentiles of quantity\n",
    "q_low = all_sales['quantity'].quantile(0.01)\n",
    "q_high = all_sales['quantity'].quantile(0.99)\n",
    "\n",
    "# Filter the data\n",
    "filtered_sales = all_sales[(all_sales['quantity'] >= q_low) & (all_sales['quantity'] <= q_high)]\n",
    "\n",
    "print(f\"Original data shape: {all_sales.shape}\")\n",
    "print(f\"Filtered data shape: {filtered_sales.shape}\")\n",
    "print(f\"\\nQuantity range after filtering:\")\n",
    "print(f\"Min: {filtered_sales['quantity'].min():.2f}\")\n",
    "print(f\"Max: {filtered_sales['quantity'].max():.2f}\")\n",
    "\n",
    "# Plot distribution with filtered data\n",
    "plt.figure(figsize=(12, 6))\n",
    "sns.histplot(data=filtered_sales, x='quantity', bins=50)\n",
    "plt.title('Distribution of Sales Quantity (1-99 percentile)')\n",
    "plt.xlabel('Quantity')\n",
    "plt.ylabel('Count')\n",
    "plt.show()\n",
    "\n",
    "# Box plot with filtered data\n",
    "plt.figure(figsize=(10, 6))\n",
    "sns.boxplot(data=filtered_sales, x='channel', y='quantity')\n",
    "plt.title('Quantity Distribution by Channel (1-99 percentile)')\n",
    "plt.show()\n",
    "\n",
    "# Correlation analysis with filtered data\n",
    "numerical_cols = ['quantity', 'price_base', 'sum_total', 'year', 'month', 'day', 'day_of_week']\n",
    "correlation_matrix = filtered_sales[numerical_cols].corr()\n",
    "\n",
    "plt.figure(figsize=(10, 8))\n",
    "sns.heatmap(correlation_matrix, annot=True, cmap='coolwarm', center=0)\n",
    "plt.title('Correlation Matrix of Numerical Features (1-99 percentile)')\n",
    "plt.show()"
   ]
  },
  {
   "cell_type": "code",
   "execution_count": 33,
   "metadata": {},
   "outputs": [
    {
     "data": {
      "image/png": "[encoded data removed]",
      "text/plain": [
       "<Figure size 1500x1000 with 2 Axes>"
      ]
     },
     "metadata": {},
     "output_type": "display_data"
    },
    {
     "name": "stdout",
     "output_type": "stream",
     "text": [
      "\n",
      "Monthly Sales Summary:\n",
      "                                date      quantity   store_id       item_id\n",
      "count                             26  2.600000e+01  26.000000     26.000000\n",
      "mean   2023-08-16 14:46:09.230769152  1.272336e+06   3.384615  13726.000000\n",
      "min              2022-08-01 00:00:00  1.263897e+05   3.000000   8402.000000\n",
      "25%              2023-02-08 00:00:00  9.955174e+05   3.000000  12959.500000\n",
      "50%              2023-08-16 12:00:00  1.021055e+06   3.000000  13356.000000\n",
      "75%              2024-02-22 18:00:00  1.674465e+06   4.000000  15047.500000\n",
      "max              2024-09-01 00:00:00  1.953119e+06   4.000000  15485.000000\n",
      "std                              NaN  4.599530e+05   0.496139   1509.790873\n",
      "\n",
      "Month-over-Month Growth Rates:\n",
      "         date  quantity_pct_change\n",
      "21 2024-05-01             4.277191\n",
      "22 2024-06-01            -5.269199\n",
      "23 2024-07-01             4.089778\n",
      "24 2024-08-01            -0.448592\n",
      "25 2024-09-01           -17.863934\n"
     ]
    }
   ],
   "source": [
    "# Convert date back to datetime if it's string\n",
    "# filtered_sales['date'] = pd.to_datetime(filtered_sales['date'])\n",
    "\n",
    "# Create monthly aggregation\n",
    "monthly_sales = filtered_sales.groupby(filtered_sales['date'].dt.to_period('M')).agg({\n",
    "    'quantity': 'sum',\n",
    "    'store_id': 'nunique',  # number of active stores\n",
    "    'item_id': 'nunique'    # number of unique items sold\n",
    "}).reset_index()\n",
    "\n",
    "# Convert period to datetime for plotting\n",
    "monthly_sales['date'] = monthly_sales['date'].dt.to_timestamp()\n",
    "\n",
    "# Create figure with two subplots\n",
    "fig, (ax1, ax2) = plt.subplots(2, 1, figsize=(15, 10))\n",
    "fig.tight_layout(pad=4)\n",
    "\n",
    "# Plot total quantity\n",
    "ax1.plot(monthly_sales['date'], monthly_sales['quantity'], marker='o')\n",
    "ax1.set_title('Monthly Total Sales Quantity Over Time')\n",
    "ax1.set_xlabel('Date')\n",
    "ax1.set_ylabel('Total Quantity')\n",
    "ax1.grid(True)\n",
    "ax1.tick_params(axis='x', rotation=45)\n",
    "\n",
    "# Plot store and item counts\n",
    "ax2.plot(monthly_sales['date'], monthly_sales['store_id'], marker='o', label='Active Stores')\n",
    "ax2.plot(monthly_sales['date'], monthly_sales['item_id'], marker='o', label='Unique Items')\n",
    "ax2.set_title('Monthly Active Stores and Unique Items')\n",
    "ax2.set_xlabel('Date')\n",
    "ax2.set_ylabel('Count')\n",
    "ax2.grid(True)\n",
    "ax2.legend()\n",
    "ax2.tick_params(axis='x', rotation=45)\n",
    "\n",
    "plt.show()\n",
    "\n",
    "# Print summary statistics\n",
    "print(\"\\nMonthly Sales Summary:\")\n",
    "print(monthly_sales.describe())\n",
    "\n",
    "# Calculate month-over-month growth\n",
    "monthly_sales['quantity_pct_change'] = monthly_sales['quantity'].pct_change() * 100\n",
    "print(\"\\nMonth-over-Month Growth Rates:\")\n",
    "print(monthly_sales[['date', 'quantity_pct_change']].tail())"
   ]
  },
  {
   "cell_type": "markdown",
   "metadata": {},
   "source": [
    "we could try using the sales since 202312 due to a rise in total quantity"
   ]
  },
  {
   "cell_type": "markdown",
   "metadata": {},
   "source": [
    "# Model Training\n",
    "1. LGBM\n",
    "2. RandomForest"
   ]
  },
  {
   "cell_type": "code",
   "execution_count": 122,
   "metadata": {},
   "outputs": [],
   "source": [
    "sales = pd.read_csv('../data/sales.csv', index_col=0)\n",
    "online = pd.read_csv('../data/online.csv', index_col=0)\n",
    "all_sales = pd.concat([sales, online], ignore_index=True)"
   ]
  },
  {
   "cell_type": "code",
   "execution_count": 123,
   "metadata": {},
   "outputs": [],
   "source": [
    "# Group by date, store_id, item_id and aggregate\n",
    "all_sales = all_sales.groupby(['date', 'store_id', 'item_id']).agg({\n",
    "    'quantity': 'sum',\n",
    "    'price_base': 'median'\n",
    "}).reset_index()"
   ]
  },
  {
   "cell_type": "code",
   "execution_count": 124,
   "metadata": {},
   "outputs": [
    {
     "data": {
      "text/html": [
       "<div>\n",
       "<style scoped>\n",
       "    .dataframe tbody tr th:only-of-type {\n",
       "        vertical-align: middle;\n",
       "    }\n",
       "\n",
       "    .dataframe tbody tr th {\n",
       "        vertical-align: top;\n",
       "    }\n",
       "\n",
       "    .dataframe thead th {\n",
       "        text-align: right;\n",
       "    }\n",
       "</style>\n",
       "<table border=\"1\" class=\"dataframe\">\n",
       "  <thead>\n",
       "    <tr style=\"text-align: right;\">\n",
       "      <th></th>\n",
       "      <th>date</th>\n",
       "      <th>store_id</th>\n",
       "      <th>item_id</th>\n",
       "      <th>quantity</th>\n",
       "      <th>price_base</th>\n",
       "    </tr>\n",
       "  </thead>\n",
       "  <tbody>\n",
       "    <tr>\n",
       "      <th>0</th>\n",
       "      <td>2022-08-28</td>\n",
       "      <td>1</td>\n",
       "      <td>001829cb707d</td>\n",
       "      <td>7.0</td>\n",
       "      <td>134.76</td>\n",
       "    </tr>\n",
       "    <tr>\n",
       "      <th>1</th>\n",
       "      <td>2022-08-28</td>\n",
       "      <td>1</td>\n",
       "      <td>0022b986c8f0</td>\n",
       "      <td>2.0</td>\n",
       "      <td>59.90</td>\n",
       "    </tr>\n",
       "    <tr>\n",
       "      <th>2</th>\n",
       "      <td>2022-08-28</td>\n",
       "      <td>1</td>\n",
       "      <td>002f51c34a7a</td>\n",
       "      <td>4.0</td>\n",
       "      <td>83.11</td>\n",
       "    </tr>\n",
       "    <tr>\n",
       "      <th>3</th>\n",
       "      <td>2022-08-28</td>\n",
       "      <td>1</td>\n",
       "      <td>0052403cd09c</td>\n",
       "      <td>1.0</td>\n",
       "      <td>45.70</td>\n",
       "    </tr>\n",
       "    <tr>\n",
       "      <th>4</th>\n",
       "      <td>2022-08-28</td>\n",
       "      <td>1</td>\n",
       "      <td>005addd8096b</td>\n",
       "      <td>2.0</td>\n",
       "      <td>77.25</td>\n",
       "    </tr>\n",
       "  </tbody>\n",
       "</table>\n",
       "</div>"
      ],
      "text/plain": [
       "         date  store_id       item_id  quantity  price_base\n",
       "0  2022-08-28         1  001829cb707d       7.0      134.76\n",
       "1  2022-08-28         1  0022b986c8f0       2.0       59.90\n",
       "2  2022-08-28         1  002f51c34a7a       4.0       83.11\n",
       "3  2022-08-28         1  0052403cd09c       1.0       45.70\n",
       "4  2022-08-28         1  005addd8096b       2.0       77.25"
      ]
     },
     "execution_count": 124,
     "metadata": {},
     "output_type": "execute_result"
    }
   ],
   "source": [
    "all_sales.head()"
   ]
  },
  {
   "cell_type": "code",
   "execution_count": 125,
   "metadata": {},
   "outputs": [],
   "source": [
    "# Convert date to datetime\n",
    "all_sales['date'] = pd.to_datetime(all_sales['date'])\n",
    "# Create basic time features\n",
    "all_sales['year'] = all_sales['date'].dt.year\n",
    "all_sales['month'] = all_sales['date'].dt.month\n",
    "# all_sales['day'] = all_sales['date'].dt.day\n",
    "all_sales['day_of_week'] = all_sales['date'].dt.dayofweek"
   ]
  },
  {
   "cell_type": "code",
   "execution_count": 126,
   "metadata": {},
   "outputs": [],
   "source": [
    "all_sales['date'] = all_sales['date'].astype(str)\n",
    "all_sales['store_id'] = all_sales['store_id'].astype(str)\n",
    "all_sales['year'] = all_sales['year'].astype(str)\n",
    "all_sales['month'] = all_sales['month'].astype(str)\n",
    "# all_sales['day'] = all_sales['day'].astype(str)\n",
    "all_sales['day_of_week'] = all_sales['day_of_week'].astype(str)"
   ]
  },
  {
   "cell_type": "code",
   "execution_count": 127,
   "metadata": {},
   "outputs": [
    {
     "data": {
      "text/plain": [
       "date           0\n",
       "store_id       0\n",
       "item_id        0\n",
       "quantity       0\n",
       "price_base     0\n",
       "year           0\n",
       "month          0\n",
       "day_of_week    0\n",
       "dtype: int64"
      ]
     },
     "execution_count": 127,
     "metadata": {},
     "output_type": "execute_result"
    }
   ],
   "source": [
    "all_sales = all_sales.fillna('unknown')\n",
    "all_sales.isna().sum()"
   ]
  },
  {
   "cell_type": "code",
   "execution_count": 128,
   "metadata": {},
   "outputs": [],
   "source": [
    "# Filter data after November 2023\n",
    "# filtered_sales = all_sales[all_sales['date'] >= '2023-11-01']\n",
    "filtered_sales = all_sales[all_sales['quantity'] > 0]\n",
    "\n",
    "# Calculate 1st and 99th percentiles of quantity\n",
    "# q_low = filtered_sales['quantity'].quantile(0.01)\n",
    "# q_high = filtered_sales['quantity'].quantile(0.99)\n",
    "\n",
    "# Filter the data\n",
    "# filtered_sales = filtered_sales[(filtered_sales['quantity'] >= q_low) & (filtered_sales['quantity'] <= q_high)]"
   ]
  },
  {
   "cell_type": "code",
   "execution_count": 129,
   "metadata": {},
   "outputs": [
    {
     "name": "stdout",
     "output_type": "stream",
     "text": [
      "\n",
      "Date range in filtered data:\n",
      "Start date: 2022-08-28\n",
      "End date: 2024-09-26\n",
      "\n",
      "Total records: 7646034\n"
     ]
    }
   ],
   "source": [
    "# Show the date range of filtered data\n",
    "print(\"\\nDate range in filtered data:\")\n",
    "print(f\"Start date: {filtered_sales['date'].min()}\")\n",
    "print(f\"End date: {filtered_sales['date'].max()}\")\n",
    "print(f\"\\nTotal records: {len(filtered_sales)}\")"
   ]
  },
  {
   "cell_type": "code",
   "execution_count": 130,
   "metadata": {},
   "outputs": [],
   "source": [
    "def train_val_test_split(df, target, train_size, val_size, test_size, random_state):\n",
    "    \n",
    "    df_full_train, df_test = train_test_split(df, test_size=test_size, random_state=random_state)\n",
    "    val_portion = val_size / (train_size + val_size)\n",
    "    df_train, df_val = train_test_split(df_full_train, test_size=val_portion, random_state=random_state)\n",
    "\n",
    "    df_train = df_train.reset_index(drop=True)\n",
    "    df_val = df_val.reset_index(drop=True)\n",
    "    df_test = df_test.reset_index(drop=True)\n",
    "\n",
    "    y_train = df_train[target].values\n",
    "    y_val = df_val[target].values\n",
    "    y_test = df_test[target].values\n",
    "\n",
    "    del df_train[target]\n",
    "    del df_val[target]\n",
    "    del df_test[target]\n",
    "\n",
    "    return df_full_train, df_train, df_test, df_val, y_train, y_val, y_test"
   ]
  },
  {
   "cell_type": "code",
   "execution_count": 131,
   "metadata": {},
   "outputs": [],
   "source": [
    "df_full_train, df_train, df_test, df_val, y_train, y_val, y_test = \\\n",
    "    train_val_test_split(df=filtered_sales, target='quantity', train_size=0.6, val_size=0.2, test_size=0.2, random_state=42)"
   ]
  },
  {
   "cell_type": "code",
   "execution_count": 132,
   "metadata": {},
   "outputs": [],
   "source": [
    "def train_lgbm(df_train, y_train, params=None):\n",
    "    if params is None:\n",
    "        # Simplified parameters for faster training\n",
    "        params = {\n",
    "            'objective': 'regression',\n",
    "            'metric': 'rmse',\n",
    "            'num_leaves': 20,  # reduced from 31\n",
    "            'learning_rate': 0.1,  # increased from 0.05\n",
    "            'feature_fraction': 0.8,\n",
    "            'num_threads': -1,  # Use all CPU cores\n",
    "            'verbosity': -1  # Reduce verbosity\n",
    "        }\n",
    "    \n",
    "    dicts = df_train.to_dict(orient='records')\n",
    "    dv = DictVectorizer(sparse=True)\n",
    "    X_train = dv.fit_transform(dicts)\n",
    "    \n",
    "    train_data = lgb.Dataset(X_train, label=y_train)\n",
    "    \n",
    "    # Add progress bar\n",
    "    print(\"Training LightGBM model...\")\n",
    "    model = lgb.train(\n",
    "        params, \n",
    "        train_data, \n",
    "        num_boost_round=50,  # reduced from 100\n",
    "        callbacks=[lgb.log_evaluation(period=10)]\n",
    "    )\n",
    "    \n",
    "    return dv, model"
   ]
  },
  {
   "cell_type": "code",
   "execution_count": 133,
   "metadata": {},
   "outputs": [
    {
     "name": "stdout",
     "output_type": "stream",
     "text": [
      "Training LightGBM model...\n"
     ]
    }
   ],
   "source": [
    "# Train model\n",
    "dv, lgb_model = train_lgbm(df_train, y_train)"
   ]
  },
  {
   "cell_type": "code",
   "execution_count": 134,
   "metadata": {},
   "outputs": [],
   "source": [
    "def predict(df, dv, model):\n",
    "    dicts = df.to_dict(orient='records')\n",
    "\n",
    "    X = dv.transform(dicts)\n",
    "    y_pred = model.predict(X)\n",
    "\n",
    "    return y_pred\n",
    "\n",
    "def rmse(y, y_pred):\n",
    "    error = y_pred - y\n",
    "    mse = (error ** 2).mean()\n",
    "    return np.sqrt(mse)"
   ]
  },
  {
   "cell_type": "code",
   "execution_count": 135,
   "metadata": {},
   "outputs": [
    {
     "name": "stdout",
     "output_type": "stream",
     "text": [
      "LightGBM RMSE: 12.878\n"
     ]
    }
   ],
   "source": [
    "# Make predictions on val\n",
    "y_pred = predict(df_val, dv, lgb_model)\n",
    "print('LightGBM RMSE:', round(rmse(y_val, y_pred), 3))"
   ]
  },
  {
   "cell_type": "code",
   "execution_count": 136,
   "metadata": {},
   "outputs": [
    {
     "name": "stdout",
     "output_type": "stream",
     "text": [
      "LightGBM RMSE: 12.716\n"
     ]
    }
   ],
   "source": [
    "# Make predictions on test\n",
    "y_pred = predict(df_test, dv, lgb_model)\n",
    "print('LightGBM RMSE:', round(rmse(y_test, y_pred), 3))"
   ]
  },
  {
   "cell_type": "code",
   "execution_count": 139,
   "metadata": {},
   "outputs": [
    {
     "data": {
      "text/html": [
       "<div>\n",
       "<style scoped>\n",
       "    .dataframe tbody tr th:only-of-type {\n",
       "        vertical-align: middle;\n",
       "    }\n",
       "\n",
       "    .dataframe tbody tr th {\n",
       "        vertical-align: top;\n",
       "    }\n",
       "\n",
       "    .dataframe thead th {\n",
       "        text-align: right;\n",
       "    }\n",
       "</style>\n",
       "<table border=\"1\" class=\"dataframe\">\n",
       "  <thead>\n",
       "    <tr style=\"text-align: right;\">\n",
       "      <th></th>\n",
       "      <th>row_id</th>\n",
       "      <th>item_id</th>\n",
       "      <th>store_id</th>\n",
       "      <th>date</th>\n",
       "    </tr>\n",
       "  </thead>\n",
       "  <tbody>\n",
       "    <tr>\n",
       "      <th>0</th>\n",
       "      <td>0</td>\n",
       "      <td>c578da8e8841</td>\n",
       "      <td>1</td>\n",
       "      <td>27.09.2024</td>\n",
       "    </tr>\n",
       "    <tr>\n",
       "      <th>1</th>\n",
       "      <td>1</td>\n",
       "      <td>c578da8e8841</td>\n",
       "      <td>1</td>\n",
       "      <td>28.09.2024</td>\n",
       "    </tr>\n",
       "    <tr>\n",
       "      <th>2</th>\n",
       "      <td>2</td>\n",
       "      <td>c578da8e8841</td>\n",
       "      <td>1</td>\n",
       "      <td>29.09.2024</td>\n",
       "    </tr>\n",
       "    <tr>\n",
       "      <th>3</th>\n",
       "      <td>3</td>\n",
       "      <td>c578da8e8841</td>\n",
       "      <td>1</td>\n",
       "      <td>30.09.2024</td>\n",
       "    </tr>\n",
       "    <tr>\n",
       "      <th>4</th>\n",
       "      <td>4</td>\n",
       "      <td>c578da8e8841</td>\n",
       "      <td>1</td>\n",
       "      <td>01.10.2024</td>\n",
       "    </tr>\n",
       "  </tbody>\n",
       "</table>\n",
       "</div>"
      ],
      "text/plain": [
       "   row_id       item_id  store_id        date\n",
       "0       0  c578da8e8841         1  27.09.2024\n",
       "1       1  c578da8e8841         1  28.09.2024\n",
       "2       2  c578da8e8841         1  29.09.2024\n",
       "3       3  c578da8e8841         1  30.09.2024\n",
       "4       4  c578da8e8841         1  01.10.2024"
      ]
     },
     "execution_count": 139,
     "metadata": {},
     "output_type": "execute_result"
    }
   ],
   "source": [
    "test = pd.read_csv('../data/test.csv', sep=';')\n",
    "test.head()"
   ]
  },
  {
   "cell_type": "code",
   "execution_count": 58,
   "metadata": {},
   "outputs": [
    {
     "data": {
      "text/html": [
       "<div>\n",
       "<style scoped>\n",
       "    .dataframe tbody tr th:only-of-type {\n",
       "        vertical-align: middle;\n",
       "    }\n",
       "\n",
       "    .dataframe tbody tr th {\n",
       "        vertical-align: top;\n",
       "    }\n",
       "\n",
       "    .dataframe thead th {\n",
       "        text-align: right;\n",
       "    }\n",
       "</style>\n",
       "<table border=\"1\" class=\"dataframe\">\n",
       "  <thead>\n",
       "    <tr style=\"text-align: right;\">\n",
       "      <th></th>\n",
       "      <th>date</th>\n",
       "      <th>store_id</th>\n",
       "      <th>item_id</th>\n",
       "      <th>price_base</th>\n",
       "      <th>year</th>\n",
       "      <th>month</th>\n",
       "      <th>day_of_week</th>\n",
       "    </tr>\n",
       "  </thead>\n",
       "  <tbody>\n",
       "    <tr>\n",
       "      <th>0</th>\n",
       "      <td>2024-08-01</td>\n",
       "      <td>4</td>\n",
       "      <td>09c375b4e892</td>\n",
       "      <td>68.71</td>\n",
       "      <td>2024</td>\n",
       "      <td>8</td>\n",
       "      <td>3</td>\n",
       "    </tr>\n",
       "    <tr>\n",
       "      <th>1</th>\n",
       "      <td>2024-09-23</td>\n",
       "      <td>1</td>\n",
       "      <td>95da83ab8f75</td>\n",
       "      <td>109.90</td>\n",
       "      <td>2024</td>\n",
       "      <td>9</td>\n",
       "      <td>0</td>\n",
       "    </tr>\n",
       "    <tr>\n",
       "      <th>2</th>\n",
       "      <td>2024-01-02</td>\n",
       "      <td>4</td>\n",
       "      <td>badb5d267d60</td>\n",
       "      <td>79.90</td>\n",
       "      <td>2024</td>\n",
       "      <td>1</td>\n",
       "      <td>1</td>\n",
       "    </tr>\n",
       "    <tr>\n",
       "      <th>3</th>\n",
       "      <td>2024-04-29</td>\n",
       "      <td>4</td>\n",
       "      <td>0ae0a1448a94</td>\n",
       "      <td>29.71</td>\n",
       "      <td>2024</td>\n",
       "      <td>4</td>\n",
       "      <td>0</td>\n",
       "    </tr>\n",
       "    <tr>\n",
       "      <th>4</th>\n",
       "      <td>2024-04-27</td>\n",
       "      <td>3</td>\n",
       "      <td>ff4431e6a727</td>\n",
       "      <td>17.90</td>\n",
       "      <td>2024</td>\n",
       "      <td>4</td>\n",
       "      <td>5</td>\n",
       "    </tr>\n",
       "  </tbody>\n",
       "</table>\n",
       "</div>"
      ],
      "text/plain": [
       "         date store_id       item_id  price_base  year month day_of_week\n",
       "0  2024-08-01        4  09c375b4e892       68.71  2024     8           3\n",
       "1  2024-09-23        1  95da83ab8f75      109.90  2024     9           0\n",
       "2  2024-01-02        4  badb5d267d60       79.90  2024     1           1\n",
       "3  2024-04-29        4  0ae0a1448a94       29.71  2024     4           0\n",
       "4  2024-04-27        3  ff4431e6a727       17.90  2024     4           5"
      ]
     },
     "execution_count": 58,
     "metadata": {},
     "output_type": "execute_result"
    }
   ],
   "source": [
    "df_train.head()"
   ]
  },
  {
   "cell_type": "code",
   "execution_count": 60,
   "metadata": {},
   "outputs": [
    {
     "data": {
      "text/html": [
       "<div>\n",
       "<style scoped>\n",
       "    .dataframe tbody tr th:only-of-type {\n",
       "        vertical-align: middle;\n",
       "    }\n",
       "\n",
       "    .dataframe tbody tr th {\n",
       "        vertical-align: top;\n",
       "    }\n",
       "\n",
       "    .dataframe thead th {\n",
       "        text-align: right;\n",
       "    }\n",
       "</style>\n",
       "<table border=\"1\" class=\"dataframe\">\n",
       "  <thead>\n",
       "    <tr style=\"text-align: right;\">\n",
       "      <th></th>\n",
       "      <th>date</th>\n",
       "      <th>item_id</th>\n",
       "      <th>price</th>\n",
       "      <th>code</th>\n",
       "      <th>store_id</th>\n",
       "    </tr>\n",
       "  </thead>\n",
       "  <tbody>\n",
       "    <tr>\n",
       "      <th>0</th>\n",
       "      <td>2023-08-01</td>\n",
       "      <td>4a1f95fe4d4b</td>\n",
       "      <td>499.9</td>\n",
       "      <td>1</td>\n",
       "      <td>1</td>\n",
       "    </tr>\n",
       "    <tr>\n",
       "      <th>1</th>\n",
       "      <td>2023-08-01</td>\n",
       "      <td>bf43a9d3ae13</td>\n",
       "      <td>0.0</td>\n",
       "      <td>9999999999</td>\n",
       "      <td>1</td>\n",
       "    </tr>\n",
       "    <tr>\n",
       "      <th>2</th>\n",
       "      <td>2023-08-01</td>\n",
       "      <td>0dd8744decce</td>\n",
       "      <td>129.9</td>\n",
       "      <td>1</td>\n",
       "      <td>1</td>\n",
       "    </tr>\n",
       "    <tr>\n",
       "      <th>3</th>\n",
       "      <td>2023-08-01</td>\n",
       "      <td>9b38c7e4dba9</td>\n",
       "      <td>136.0</td>\n",
       "      <td>1</td>\n",
       "      <td>1</td>\n",
       "    </tr>\n",
       "    <tr>\n",
       "      <th>4</th>\n",
       "      <td>2023-08-01</td>\n",
       "      <td>b791e8c9347c</td>\n",
       "      <td>0.0</td>\n",
       "      <td>1</td>\n",
       "      <td>1</td>\n",
       "    </tr>\n",
       "  </tbody>\n",
       "</table>\n",
       "</div>"
      ],
      "text/plain": [
       "         date       item_id  price        code  store_id\n",
       "0  2023-08-01  4a1f95fe4d4b  499.9           1         1\n",
       "1  2023-08-01  bf43a9d3ae13    0.0  9999999999         1\n",
       "2  2023-08-01  0dd8744decce  129.9           1         1\n",
       "3  2023-08-01  9b38c7e4dba9  136.0           1         1\n",
       "4  2023-08-01  b791e8c9347c    0.0           1         1"
      ]
     },
     "execution_count": 60,
     "metadata": {},
     "output_type": "execute_result"
    }
   ],
   "source": [
    "price_history.head()"
   ]
  },
  {
   "cell_type": "code",
   "execution_count": 137,
   "metadata": {},
   "outputs": [],
   "source": [
    "def prepare_test_data(test_df):\n",
    "    # Convert date to datetime\n",
    "    test_df['date'] = pd.to_datetime(test_df['date'], format='%d.%m.%Y')\n",
    "    \n",
    "    # Create time features\n",
    "    test_df['year'] = test_df['date'].dt.year\n",
    "    test_df['month'] = test_df['date'].dt.month\n",
    "    test_df['day_of_week'] = test_df['date'].dt.dayofweek\n",
    "    \n",
    "    # Convert to string type\n",
    "    test_df['date'] = test_df['date'].astype(str)\n",
    "    test_df['store_id'] = test_df['store_id'].astype(str)\n",
    "    test_df['year'] = test_df['year'].astype(str)\n",
    "    test_df['month'] = test_df['month'].astype(str)\n",
    "    test_df['day_of_week'] = test_df['day_of_week'].astype(str)\n",
    "    \n",
    "    return test_df"
   ]
  },
  {
   "cell_type": "code",
   "execution_count": 140,
   "metadata": {},
   "outputs": [],
   "source": [
    "processed_test = prepare_test_data(test)"
   ]
  },
  {
   "cell_type": "code",
   "execution_count": 141,
   "metadata": {},
   "outputs": [],
   "source": [
    "# Get the last price for each item_id and store_id combination\n",
    "last_prices = price_history.sort_values('date').groupby(['item_id', 'store_id'])['price'].last().reset_index()"
   ]
  },
  {
   "cell_type": "code",
   "execution_count": 142,
   "metadata": {},
   "outputs": [],
   "source": [
    "last_prices['store_id'] = last_prices['store_id'].astype(str)"
   ]
  },
  {
   "cell_type": "code",
   "execution_count": 143,
   "metadata": {},
   "outputs": [],
   "source": [
    "# Join with last prices\n",
    "processed_test = processed_test.merge(last_prices, on=['item_id', 'store_id'], how='left')"
   ]
  },
  {
   "cell_type": "code",
   "execution_count": 144,
   "metadata": {},
   "outputs": [
    {
     "name": "stdout",
     "output_type": "stream",
     "text": [
      "\n",
      "Missing prices:\n",
      "57180\n"
     ]
    }
   ],
   "source": [
    "print(\"\\nMissing prices:\")\n",
    "print(processed_test['price'].isna().sum())"
   ]
  },
  {
   "cell_type": "code",
   "execution_count": 145,
   "metadata": {},
   "outputs": [],
   "source": [
    "# Calculate median price by item_id from all_sales\n",
    "item_median_prices = all_sales.groupby('item_id')['price_base'].median().reset_index()\n",
    "item_median_prices = item_median_prices.rename(columns={'price_base': 'median_price'})"
   ]
  },
  {
   "cell_type": "code",
   "execution_count": 146,
   "metadata": {},
   "outputs": [],
   "source": [
    "# Then fill remaining missing values with median prices from all_sales\n",
    "processed_test = processed_test.merge(item_median_prices, on='item_id', how='left')"
   ]
  },
  {
   "cell_type": "code",
   "execution_count": 147,
   "metadata": {},
   "outputs": [],
   "source": [
    "# Use median_price where price is missing\n",
    "processed_test['price'] = processed_test['price'].fillna(processed_test['median_price'])"
   ]
  },
  {
   "cell_type": "code",
   "execution_count": 148,
   "metadata": {},
   "outputs": [],
   "source": [
    "# Drop the temporary median_price column\n",
    "processed_test = processed_test.drop('median_price', axis=1)"
   ]
  },
  {
   "cell_type": "code",
   "execution_count": 149,
   "metadata": {},
   "outputs": [
    {
     "name": "stdout",
     "output_type": "stream",
     "text": [
      "Missing prices after history median price imputation:\n",
      "4230\n"
     ]
    }
   ],
   "source": [
    "# Check if we still have missing prices\n",
    "print(\"Missing prices after history median price imputation:\")\n",
    "print(processed_test['price'].isna().sum())"
   ]
  },
  {
   "cell_type": "code",
   "execution_count": 150,
   "metadata": {},
   "outputs": [
    {
     "data": {
      "text/html": [
       "<div>\n",
       "<style scoped>\n",
       "    .dataframe tbody tr th:only-of-type {\n",
       "        vertical-align: middle;\n",
       "    }\n",
       "\n",
       "    .dataframe tbody tr th {\n",
       "        vertical-align: top;\n",
       "    }\n",
       "\n",
       "    .dataframe thead th {\n",
       "        text-align: right;\n",
       "    }\n",
       "</style>\n",
       "<table border=\"1\" class=\"dataframe\">\n",
       "  <thead>\n",
       "    <tr style=\"text-align: right;\">\n",
       "      <th></th>\n",
       "      <th>item_id</th>\n",
       "      <th>dept_name</th>\n",
       "      <th>class_name</th>\n",
       "      <th>subclass_name</th>\n",
       "      <th>item_type</th>\n",
       "      <th>weight_volume</th>\n",
       "      <th>weight_netto</th>\n",
       "      <th>fatness</th>\n",
       "    </tr>\n",
       "  </thead>\n",
       "  <tbody>\n",
       "    <tr>\n",
       "      <th>0</th>\n",
       "      <td>da17e2d5feda</td>\n",
       "      <td>БУМАЖНО-ВАТНАЯ ПРОДУКЦИЯ</td>\n",
       "      <td>БУМАЖНАЯ ПРОДУКЦИЯ</td>\n",
       "      <td>ВЛАЖНЫЕ САЛФЕТКИ</td>\n",
       "      <td>NaN</td>\n",
       "      <td>150.0</td>\n",
       "      <td>NaN</td>\n",
       "      <td>NaN</td>\n",
       "    </tr>\n",
       "    <tr>\n",
       "      <th>1</th>\n",
       "      <td>614de2b96018</td>\n",
       "      <td>БУМАЖНО-ВАТНАЯ ПРОДУКЦИЯ</td>\n",
       "      <td>ВАТНАЯ ПРОДУКЦИЯ</td>\n",
       "      <td>ВАТНЫЕ ДИСКИ</td>\n",
       "      <td>NaN</td>\n",
       "      <td>30.0</td>\n",
       "      <td>NaN</td>\n",
       "      <td>NaN</td>\n",
       "    </tr>\n",
       "    <tr>\n",
       "      <th>2</th>\n",
       "      <td>0c1f1f3e3e11</td>\n",
       "      <td>БУМАЖНО-ВАТНАЯ ПРОДУКЦИЯ</td>\n",
       "      <td>ВАТНАЯ ПРОДУКЦИЯ</td>\n",
       "      <td>ВАТНЫЕ ДИСКИ</td>\n",
       "      <td>NaN</td>\n",
       "      <td>NaN</td>\n",
       "      <td>NaN</td>\n",
       "      <td>NaN</td>\n",
       "    </tr>\n",
       "    <tr>\n",
       "      <th>3</th>\n",
       "      <td>71a7fa99f005</td>\n",
       "      <td>ТОВАРЫ ДЛЯ ДОМА</td>\n",
       "      <td>ПОСУДА</td>\n",
       "      <td>КУХОННАЯ ПОСУДА</td>\n",
       "      <td>NaN</td>\n",
       "      <td>NaN</td>\n",
       "      <td>NaN</td>\n",
       "      <td>NaN</td>\n",
       "    </tr>\n",
       "    <tr>\n",
       "      <th>4</th>\n",
       "      <td>ec1bd4d59fe9</td>\n",
       "      <td>БУМАЖНО-ВАТНАЯ ПРОДУКЦИЯ</td>\n",
       "      <td>ВАТНАЯ ПРОДУКЦИЯ</td>\n",
       "      <td>ВАТНЫЕ ДИСКИ</td>\n",
       "      <td>NaN</td>\n",
       "      <td>30.0</td>\n",
       "      <td>NaN</td>\n",
       "      <td>NaN</td>\n",
       "    </tr>\n",
       "  </tbody>\n",
       "</table>\n",
       "</div>"
      ],
      "text/plain": [
       "        item_id                 dept_name          class_name  \\\n",
       "0  da17e2d5feda  БУМАЖНО-ВАТНАЯ ПРОДУКЦИЯ  БУМАЖНАЯ ПРОДУКЦИЯ   \n",
       "1  614de2b96018  БУМАЖНО-ВАТНАЯ ПРОДУКЦИЯ    ВАТНАЯ ПРОДУКЦИЯ   \n",
       "2  0c1f1f3e3e11  БУМАЖНО-ВАТНАЯ ПРОДУКЦИЯ    ВАТНАЯ ПРОДУКЦИЯ   \n",
       "3  71a7fa99f005           ТОВАРЫ ДЛЯ ДОМА              ПОСУДА   \n",
       "4  ec1bd4d59fe9  БУМАЖНО-ВАТНАЯ ПРОДУКЦИЯ    ВАТНАЯ ПРОДУКЦИЯ   \n",
       "\n",
       "      subclass_name item_type  weight_volume  weight_netto  fatness  \n",
       "0  ВЛАЖНЫЕ САЛФЕТКИ       NaN          150.0           NaN      NaN  \n",
       "1      ВАТНЫЕ ДИСКИ       NaN           30.0           NaN      NaN  \n",
       "2      ВАТНЫЕ ДИСКИ       NaN            NaN           NaN      NaN  \n",
       "3   КУХОННАЯ ПОСУДА       NaN            NaN           NaN      NaN  \n",
       "4      ВАТНЫЕ ДИСКИ       NaN           30.0           NaN      NaN  "
      ]
     },
     "execution_count": 150,
     "metadata": {},
     "output_type": "execute_result"
    }
   ],
   "source": [
    "catalog.head()"
   ]
  },
  {
   "cell_type": "code",
   "execution_count": 151,
   "metadata": {},
   "outputs": [],
   "source": [
    "# Merge catalog information\n",
    "catalog_info = catalog[['item_id', 'dept_name', 'class_name']]\n",
    "\n",
    "# Calculate median prices at different levels of granularity\n",
    "dept_class_median = all_sales.merge(catalog_info, on='item_id', how='left').groupby(\n",
    "    ['dept_name', 'class_name'])['price_base'].median().reset_index()\n",
    "dept_median = all_sales.merge(catalog_info, on='item_id', how='left').groupby(\n",
    "    ['dept_name'])['price_base'].median().reset_index()\n",
    "\n",
    "# Add catalog info to processed_test\n",
    "processed_test = processed_test.merge(catalog_info, on='item_id', how='left')"
   ]
  },
  {
   "cell_type": "code",
   "execution_count": 152,
   "metadata": {},
   "outputs": [
    {
     "data": {
      "text/plain": [
       "883680"
      ]
     },
     "execution_count": 152,
     "metadata": {},
     "output_type": "execute_result"
    }
   ],
   "source": [
    "len(processed_test)"
   ]
  },
  {
   "cell_type": "code",
   "execution_count": 153,
   "metadata": {},
   "outputs": [],
   "source": [
    "# First try dept_class level median\n",
    "processed_test = processed_test.merge(\n",
    "    dept_class_median, \n",
    "    on=['dept_name', 'class_name'], \n",
    "    how='left',\n",
    "    suffixes=('', '_dept_class')\n",
    ")"
   ]
  },
  {
   "cell_type": "code",
   "execution_count": 154,
   "metadata": {},
   "outputs": [],
   "source": [
    "# Then try dept level median\n",
    "processed_test = processed_test.merge(\n",
    "    dept_median, \n",
    "    on=['dept_name'], \n",
    "    how='left',\n",
    "    suffixes=('', '_dept')\n",
    ")"
   ]
  },
  {
   "cell_type": "code",
   "execution_count": 156,
   "metadata": {},
   "outputs": [
    {
     "data": {
      "text/html": [
       "<div>\n",
       "<style scoped>\n",
       "    .dataframe tbody tr th:only-of-type {\n",
       "        vertical-align: middle;\n",
       "    }\n",
       "\n",
       "    .dataframe tbody tr th {\n",
       "        vertical-align: top;\n",
       "    }\n",
       "\n",
       "    .dataframe thead th {\n",
       "        text-align: right;\n",
       "    }\n",
       "</style>\n",
       "<table border=\"1\" class=\"dataframe\">\n",
       "  <thead>\n",
       "    <tr style=\"text-align: right;\">\n",
       "      <th></th>\n",
       "      <th>row_id</th>\n",
       "      <th>item_id</th>\n",
       "      <th>store_id</th>\n",
       "      <th>date</th>\n",
       "      <th>year</th>\n",
       "      <th>month</th>\n",
       "      <th>day_of_week</th>\n",
       "      <th>price</th>\n",
       "      <th>dept_name</th>\n",
       "      <th>class_name</th>\n",
       "      <th>price_base</th>\n",
       "      <th>price_base_dept</th>\n",
       "    </tr>\n",
       "  </thead>\n",
       "  <tbody>\n",
       "    <tr>\n",
       "      <th>0</th>\n",
       "      <td>0</td>\n",
       "      <td>c578da8e8841</td>\n",
       "      <td>1</td>\n",
       "      <td>2024-09-27</td>\n",
       "      <td>2024</td>\n",
       "      <td>9</td>\n",
       "      <td>4</td>\n",
       "      <td>279.0</td>\n",
       "      <td>ТАБАЧНЫЕ ИЗДЕЛИЯ</td>\n",
       "      <td>СИГАРЕТЫ</td>\n",
       "      <td>170.0</td>\n",
       "      <td>177.0</td>\n",
       "    </tr>\n",
       "    <tr>\n",
       "      <th>1</th>\n",
       "      <td>1</td>\n",
       "      <td>c578da8e8841</td>\n",
       "      <td>1</td>\n",
       "      <td>2024-09-28</td>\n",
       "      <td>2024</td>\n",
       "      <td>9</td>\n",
       "      <td>5</td>\n",
       "      <td>279.0</td>\n",
       "      <td>ТАБАЧНЫЕ ИЗДЕЛИЯ</td>\n",
       "      <td>СИГАРЕТЫ</td>\n",
       "      <td>170.0</td>\n",
       "      <td>177.0</td>\n",
       "    </tr>\n",
       "    <tr>\n",
       "      <th>2</th>\n",
       "      <td>2</td>\n",
       "      <td>c578da8e8841</td>\n",
       "      <td>1</td>\n",
       "      <td>2024-09-29</td>\n",
       "      <td>2024</td>\n",
       "      <td>9</td>\n",
       "      <td>6</td>\n",
       "      <td>279.0</td>\n",
       "      <td>ТАБАЧНЫЕ ИЗДЕЛИЯ</td>\n",
       "      <td>СИГАРЕТЫ</td>\n",
       "      <td>170.0</td>\n",
       "      <td>177.0</td>\n",
       "    </tr>\n",
       "    <tr>\n",
       "      <th>3</th>\n",
       "      <td>3</td>\n",
       "      <td>c578da8e8841</td>\n",
       "      <td>1</td>\n",
       "      <td>2024-09-30</td>\n",
       "      <td>2024</td>\n",
       "      <td>9</td>\n",
       "      <td>0</td>\n",
       "      <td>279.0</td>\n",
       "      <td>ТАБАЧНЫЕ ИЗДЕЛИЯ</td>\n",
       "      <td>СИГАРЕТЫ</td>\n",
       "      <td>170.0</td>\n",
       "      <td>177.0</td>\n",
       "    </tr>\n",
       "    <tr>\n",
       "      <th>4</th>\n",
       "      <td>4</td>\n",
       "      <td>c578da8e8841</td>\n",
       "      <td>1</td>\n",
       "      <td>2024-10-01</td>\n",
       "      <td>2024</td>\n",
       "      <td>10</td>\n",
       "      <td>1</td>\n",
       "      <td>279.0</td>\n",
       "      <td>ТАБАЧНЫЕ ИЗДЕЛИЯ</td>\n",
       "      <td>СИГАРЕТЫ</td>\n",
       "      <td>170.0</td>\n",
       "      <td>177.0</td>\n",
       "    </tr>\n",
       "  </tbody>\n",
       "</table>\n",
       "</div>"
      ],
      "text/plain": [
       "   row_id       item_id store_id        date  year month day_of_week  price  \\\n",
       "0       0  c578da8e8841        1  2024-09-27  2024     9           4  279.0   \n",
       "1       1  c578da8e8841        1  2024-09-28  2024     9           5  279.0   \n",
       "2       2  c578da8e8841        1  2024-09-29  2024     9           6  279.0   \n",
       "3       3  c578da8e8841        1  2024-09-30  2024     9           0  279.0   \n",
       "4       4  c578da8e8841        1  2024-10-01  2024    10           1  279.0   \n",
       "\n",
       "          dept_name class_name  price_base  price_base_dept  \n",
       "0  ТАБАЧНЫЕ ИЗДЕЛИЯ   СИГАРЕТЫ       170.0            177.0  \n",
       "1  ТАБАЧНЫЕ ИЗДЕЛИЯ   СИГАРЕТЫ       170.0            177.0  \n",
       "2  ТАБАЧНЫЕ ИЗДЕЛИЯ   СИГАРЕТЫ       170.0            177.0  \n",
       "3  ТАБАЧНЫЕ ИЗДЕЛИЯ   СИГАРЕТЫ       170.0            177.0  \n",
       "4  ТАБАЧНЫЕ ИЗДЕЛИЯ   СИГАРЕТЫ       170.0            177.0  "
      ]
     },
     "execution_count": 156,
     "metadata": {},
     "output_type": "execute_result"
    }
   ],
   "source": [
    "processed_test.head()"
   ]
  },
  {
   "cell_type": "code",
   "execution_count": 157,
   "metadata": {},
   "outputs": [],
   "source": [
    "processed_test['price'] = processed_test['price'].fillna(processed_test['price_base_dept'])"
   ]
  },
  {
   "cell_type": "code",
   "execution_count": 158,
   "metadata": {},
   "outputs": [],
   "source": [
    "processed_test['price'] = processed_test['price'].fillna(processed_test['price_base'])"
   ]
  },
  {
   "cell_type": "code",
   "execution_count": 159,
   "metadata": {},
   "outputs": [],
   "source": [
    "processed_test['price'] = processed_test['price'].fillna(all_sales['price_base'].median())"
   ]
  },
  {
   "cell_type": "code",
   "execution_count": 160,
   "metadata": {},
   "outputs": [
    {
     "name": "stdout",
     "output_type": "stream",
     "text": [
      "0\n"
     ]
    }
   ],
   "source": [
    "print(processed_test['price'].isna().sum())"
   ]
  },
  {
   "cell_type": "code",
   "execution_count": 161,
   "metadata": {},
   "outputs": [
    {
     "data": {
      "text/html": [
       "<div>\n",
       "<style scoped>\n",
       "    .dataframe tbody tr th:only-of-type {\n",
       "        vertical-align: middle;\n",
       "    }\n",
       "\n",
       "    .dataframe tbody tr th {\n",
       "        vertical-align: top;\n",
       "    }\n",
       "\n",
       "    .dataframe thead th {\n",
       "        text-align: right;\n",
       "    }\n",
       "</style>\n",
       "<table border=\"1\" class=\"dataframe\">\n",
       "  <thead>\n",
       "    <tr style=\"text-align: right;\">\n",
       "      <th></th>\n",
       "      <th>row_id</th>\n",
       "      <th>item_id</th>\n",
       "      <th>store_id</th>\n",
       "      <th>date</th>\n",
       "      <th>year</th>\n",
       "      <th>month</th>\n",
       "      <th>day_of_week</th>\n",
       "      <th>price</th>\n",
       "      <th>dept_name</th>\n",
       "      <th>class_name</th>\n",
       "      <th>price_base</th>\n",
       "      <th>price_base_dept</th>\n",
       "    </tr>\n",
       "  </thead>\n",
       "  <tbody>\n",
       "    <tr>\n",
       "      <th>0</th>\n",
       "      <td>0</td>\n",
       "      <td>c578da8e8841</td>\n",
       "      <td>1</td>\n",
       "      <td>2024-09-27</td>\n",
       "      <td>2024</td>\n",
       "      <td>9</td>\n",
       "      <td>4</td>\n",
       "      <td>279.0</td>\n",
       "      <td>ТАБАЧНЫЕ ИЗДЕЛИЯ</td>\n",
       "      <td>СИГАРЕТЫ</td>\n",
       "      <td>170.0</td>\n",
       "      <td>177.0</td>\n",
       "    </tr>\n",
       "    <tr>\n",
       "      <th>1</th>\n",
       "      <td>1</td>\n",
       "      <td>c578da8e8841</td>\n",
       "      <td>1</td>\n",
       "      <td>2024-09-28</td>\n",
       "      <td>2024</td>\n",
       "      <td>9</td>\n",
       "      <td>5</td>\n",
       "      <td>279.0</td>\n",
       "      <td>ТАБАЧНЫЕ ИЗДЕЛИЯ</td>\n",
       "      <td>СИГАРЕТЫ</td>\n",
       "      <td>170.0</td>\n",
       "      <td>177.0</td>\n",
       "    </tr>\n",
       "    <tr>\n",
       "      <th>2</th>\n",
       "      <td>2</td>\n",
       "      <td>c578da8e8841</td>\n",
       "      <td>1</td>\n",
       "      <td>2024-09-29</td>\n",
       "      <td>2024</td>\n",
       "      <td>9</td>\n",
       "      <td>6</td>\n",
       "      <td>279.0</td>\n",
       "      <td>ТАБАЧНЫЕ ИЗДЕЛИЯ</td>\n",
       "      <td>СИГАРЕТЫ</td>\n",
       "      <td>170.0</td>\n",
       "      <td>177.0</td>\n",
       "    </tr>\n",
       "    <tr>\n",
       "      <th>3</th>\n",
       "      <td>3</td>\n",
       "      <td>c578da8e8841</td>\n",
       "      <td>1</td>\n",
       "      <td>2024-09-30</td>\n",
       "      <td>2024</td>\n",
       "      <td>9</td>\n",
       "      <td>0</td>\n",
       "      <td>279.0</td>\n",
       "      <td>ТАБАЧНЫЕ ИЗДЕЛИЯ</td>\n",
       "      <td>СИГАРЕТЫ</td>\n",
       "      <td>170.0</td>\n",
       "      <td>177.0</td>\n",
       "    </tr>\n",
       "    <tr>\n",
       "      <th>4</th>\n",
       "      <td>4</td>\n",
       "      <td>c578da8e8841</td>\n",
       "      <td>1</td>\n",
       "      <td>2024-10-01</td>\n",
       "      <td>2024</td>\n",
       "      <td>10</td>\n",
       "      <td>1</td>\n",
       "      <td>279.0</td>\n",
       "      <td>ТАБАЧНЫЕ ИЗДЕЛИЯ</td>\n",
       "      <td>СИГАРЕТЫ</td>\n",
       "      <td>170.0</td>\n",
       "      <td>177.0</td>\n",
       "    </tr>\n",
       "  </tbody>\n",
       "</table>\n",
       "</div>"
      ],
      "text/plain": [
       "   row_id       item_id store_id        date  year month day_of_week  price  \\\n",
       "0       0  c578da8e8841        1  2024-09-27  2024     9           4  279.0   \n",
       "1       1  c578da8e8841        1  2024-09-28  2024     9           5  279.0   \n",
       "2       2  c578da8e8841        1  2024-09-29  2024     9           6  279.0   \n",
       "3       3  c578da8e8841        1  2024-09-30  2024     9           0  279.0   \n",
       "4       4  c578da8e8841        1  2024-10-01  2024    10           1  279.0   \n",
       "\n",
       "          dept_name class_name  price_base  price_base_dept  \n",
       "0  ТАБАЧНЫЕ ИЗДЕЛИЯ   СИГАРЕТЫ       170.0            177.0  \n",
       "1  ТАБАЧНЫЕ ИЗДЕЛИЯ   СИГАРЕТЫ       170.0            177.0  \n",
       "2  ТАБАЧНЫЕ ИЗДЕЛИЯ   СИГАРЕТЫ       170.0            177.0  \n",
       "3  ТАБАЧНЫЕ ИЗДЕЛИЯ   СИГАРЕТЫ       170.0            177.0  \n",
       "4  ТАБАЧНЫЕ ИЗДЕЛИЯ   СИГАРЕТЫ       170.0            177.0  "
      ]
     },
     "execution_count": 161,
     "metadata": {},
     "output_type": "execute_result"
    }
   ],
   "source": [
    "processed_test.head()"
   ]
  },
  {
   "cell_type": "code",
   "execution_count": 162,
   "metadata": {},
   "outputs": [],
   "source": [
    "processed_test = processed_test[['date', 'store_id', 'item_id', 'price', 'year', 'month', 'day_of_week']]"
   ]
  },
  {
   "cell_type": "code",
   "execution_count": 163,
   "metadata": {},
   "outputs": [],
   "source": [
    "test_predictions = predict(processed_test, dv, lgb_model)"
   ]
  },
  {
   "cell_type": "code",
   "execution_count": 164,
   "metadata": {},
   "outputs": [],
   "source": [
    "submission = pd.DataFrame({\n",
    "    'row_id': test['row_id'],\n",
    "    'quantity': test_predictions\n",
    "})"
   ]
  },
  {
   "cell_type": "code",
   "execution_count": 165,
   "metadata": {},
   "outputs": [],
   "source": [
    "submission.to_csv('submission_lgbm_20250112.csv', index=False)"
   ]
  },
  {
   "cell_type": "code",
   "execution_count": 166,
   "metadata": {},
   "outputs": [
    {
     "name": "stdout",
     "output_type": "stream",
     "text": [
      "100%|██████████████████████████████████████| 21.0M/21.0M [00:01<00:00, 20.6MB/s]\n",
      "Successfully submitted to ML Zoomcamp 2024 Competition"
     ]
    }
   ],
   "source": [
    "# !kaggle competitions submit -c ml-zoomcamp-2024-competition -f submission_lgbm_20250112.csv -m \"lgbm_price_all_data\""
   ]
  },
  {
   "cell_type": "markdown",
   "metadata": {},
   "source": [
    "The base submission can get 20.1906"
   ]
  },
  {
   "cell_type": "code",
   "execution_count": 168,
   "metadata": {},
   "outputs": [
    {
     "name": "stdout",
     "output_type": "stream",
     "text": [
      "Training Random Forest model...\n",
      "\n",
      "Random Forest Performance:\n",
      "RMSE: 13.0780\n",
      "R2 Score: 0.7718\n",
      "\n",
      "LightGBM Performance:\n",
      "RMSE: 12.8777\n",
      "R2 Score: 0.7787\n",
      "\n",
      "Top 10 Most Important Features (Random Forest):\n",
      "                    feature  importance\n",
      "19996  item_id=b0d24502fb66    0.391287\n",
      "28470            store_id=4    0.167281\n",
      "28467            store_id=1    0.153800\n",
      "6280   item_id=327c5bc1e583    0.062226\n",
      "11568  item_id=63161948a95a    0.053331\n",
      "17626  item_id=9a7e315f3f42    0.033524\n",
      "28466            price_base    0.026839\n",
      "1796   item_id=0973df3ff57f    0.011286\n",
      "766           day_of_week=5    0.010080\n",
      "765           day_of_week=4    0.009427\n"
     ]
    },
    {
     "data": {
      "image/png": "[encoded data removed]",
      "text/plain": [
       "<Figure size 1200x600 with 1 Axes>"
      ]
     },
     "metadata": {},
     "output_type": "display_data"
    }
   ],
   "source": [
    "from sklearn.ensemble import RandomForestRegressor\n",
    "from sklearn.metrics import mean_squared_error, r2_score\n",
    "import numpy as np\n",
    "\n",
    "# Prepare features for Random Forest\n",
    "def prepare_features_rf(df, dv):\n",
    "    # Transform categorical variables\n",
    "    X = dv.transform(df.to_dict(orient='records'))\n",
    "    return X\n",
    "\n",
    "# Train Random Forest model\n",
    "def train_rf_model(X_train, y_train):\n",
    "    rf_model = RandomForestRegressor(\n",
    "        n_estimators=100,\n",
    "        max_depth=10,\n",
    "        min_samples_split=5,\n",
    "        min_samples_leaf=2,\n",
    "        n_jobs=-1,\n",
    "        random_state=42\n",
    "    )\n",
    "    rf_model.fit(X_train, y_train)\n",
    "    return rf_model\n",
    "\n",
    "# Make predictions\n",
    "def predict_rf(df, dv, model):\n",
    "    X = prepare_features_rf(df, dv)\n",
    "    return model.predict(X)\n",
    "\n",
    "# Train the model\n",
    "print(\"Training Random Forest model...\")\n",
    "X_train = prepare_features_rf(df_train, dv)\n",
    "X_val = prepare_features_rf(df_val, dv)\n",
    "\n",
    "rf_model = train_rf_model(X_train, y_train)\n",
    "\n",
    "# Make predictions on validation set\n",
    "val_pred_rf = predict_rf(df_val, dv, rf_model)\n",
    "\n",
    "# Calculate metrics\n",
    "rmse_rf = np.sqrt(mean_squared_error(y_val, val_pred_rf))\n",
    "r2_rf = r2_score(y_val, val_pred_rf)\n",
    "\n",
    "print(\"\\nRandom Forest Performance:\")\n",
    "print(f\"RMSE: {rmse_rf:.4f}\")\n",
    "print(f\"R2 Score: {r2_rf:.4f}\")\n",
    "\n",
    "# Compare with LightGBM performance\n",
    "val_pred_lgb = predict(df_val, dv, lgb_model)\n",
    "rmse_lgb = np.sqrt(mean_squared_error(y_val, val_pred_lgb))\n",
    "r2_lgb = r2_score(y_val, val_pred_lgb)\n",
    "\n",
    "print(\"\\nLightGBM Performance:\")\n",
    "print(f\"RMSE: {rmse_lgb:.4f}\")\n",
    "print(f\"R2 Score: {r2_lgb:.4f}\")\n",
    "\n",
    "# Feature importance for Random Forest\n",
    "feature_importance_rf = pd.DataFrame({\n",
    "    'feature': dv.get_feature_names_out(),\n",
    "    'importance': rf_model.feature_importances_\n",
    "})\n",
    "feature_importance_rf = feature_importance_rf.sort_values('importance', ascending=False)\n",
    "\n",
    "print(\"\\nTop 10 Most Important Features (Random Forest):\")\n",
    "print(feature_importance_rf.head(10))\n",
    "\n",
    "# Visualize feature importance\n",
    "plt.figure(figsize=(12, 6))\n",
    "sns.barplot(data=feature_importance_rf.head(10), x='importance', y='feature')\n",
    "plt.title('Top 10 Feature Importance - Random Forest')\n",
    "plt.xlabel('Importance')\n",
    "plt.tight_layout()\n",
    "plt.show()"
   ]
  },
  {
   "cell_type": "code",
   "execution_count": 169,
   "metadata": {},
   "outputs": [],
   "source": [
    "test_predictions = predict_rf(processed_test, dv, rf_model)\n",
    "submission = pd.DataFrame({\n",
    "    'row_id': test['row_id'],\n",
    "    'quantity': test_predictions\n",
    "})\n",
    "submission.to_csv('submission_rf_20250112.csv', index=False)"
   ]
  },
  {
   "cell_type": "code",
   "execution_count": 170,
   "metadata": {},
   "outputs": [
    {
     "name": "stdout",
     "output_type": "stream",
     "text": [
      "100%|██████████████████████████████████████| 21.8M/21.8M [00:00<00:00, 26.8MB/s]\n",
      "Successfully submitted to ML Zoomcamp 2024 Competition"
     ]
    }
   ],
   "source": [
    "# !kaggle competitions submit -c ml-zoomcamp-2024-competition -f submission_rf_20250112.csv -m \"rf_price_all_data\""
   ]
  },
  {
   "cell_type": "markdown",
   "metadata": {},
   "source": [
    "The random forest has better result of 18.47"
   ]
  },
  {
   "cell_type": "markdown",
   "metadata": {},
   "source": [
    "# Parameter Tuning"
   ]
  },
  {
   "cell_type": "code",
   "execution_count": 172,
   "metadata": {},
   "outputs": [
    {
     "name": "stdout",
     "output_type": "stream",
     "text": [
      "Training Random Forest models with different parameters...\n"
     ]
    },
    {
     "name": "stderr",
     "output_type": "stream",
     "text": [
      "  0%|                                                                              | 0/1 [00:00<?, ?it/s]"
     ]
    },
    {
     "name": "stdout",
     "output_type": "stream",
     "text": [
      "Fitting 3 folds for each of 8 candidates, totalling 24 fits\n"
     ]
    },
    {
     "name": "stderr",
     "output_type": "stream",
     "text": [
      "100%|████████████████████████████████████████████████████████████████████| 1/1 [24:40<00:00, 1480.62s/it]\n"
     ]
    },
    {
     "name": "stdout",
     "output_type": "stream",
     "text": [
      "\n",
      "Best parameters: {'max_depth': 15, 'max_features': 'sqrt', 'min_samples_leaf': 2, 'min_samples_split': 10, 'n_estimators': 100}\n",
      "Best RMSE: 5.13\n",
      "\n",
      "Tuned Random Forest Performance:\n",
      "Validation RMSE: 26.0048\n",
      "Test RMSE: 25.8822\n",
      "\n",
      "Previous Random Forest Performance:\n",
      "Validation RMSE: 13.078\n",
      "\n",
      "Top 10 Most Important Features (Tuned Random Forest):\n",
      "                    feature  importance\n",
      "19996  item_id=b0d24502fb66    0.084648\n",
      "28466            price_base    0.063840\n",
      "11568  item_id=63161948a95a    0.058874\n",
      "6280   item_id=327c5bc1e583    0.049961\n",
      "17626  item_id=9a7e315f3f42    0.046984\n",
      "4181   item_id=1f14dfe5d045    0.045434\n",
      "5841   item_id=2e58990eaa3c    0.039630\n",
      "2948   item_id=14115307ac40    0.029391\n",
      "25621  item_id=e5b2b6f57ea7    0.028898\n",
      "20503  item_id=b5aac3497e3f    0.024198\n"
     ]
    },
    {
     "data": {
      "image/png": "[encoded data removed]",
      "text/plain": [
       "<Figure size 1200x600 with 1 Axes>"
      ]
     },
     "metadata": {},
     "output_type": "display_data"
    }
   ],
   "source": [
    "from sklearn.model_selection import GridSearchCV\n",
    "from sklearn.metrics import make_scorer\n",
    "from tqdm import tqdm\n",
    "\n",
    "# Custom RMSE scorer\n",
    "def rmse_scorer(y_true, y_pred):\n",
    "    return np.sqrt(mean_squared_error(y_true, y_pred))\n",
    "\n",
    "# Parameter grid for Random Forest\n",
    "param_grid = {\n",
    "    'n_estimators': [100, 150],\n",
    "    'max_depth': [10, 15],\n",
    "    'min_samples_split': [5, 10],\n",
    "    'min_samples_leaf': [2],\n",
    "    'max_features': ['sqrt']\n",
    "}\n",
    "\n",
    "# Initialize Random Forest model\n",
    "rf = RandomForestRegressor(random_state=42, n_jobs=-1)\n",
    "\n",
    "# Initialize GridSearchCV with custom scorer\n",
    "grid_search = GridSearchCV(\n",
    "    estimator=rf,\n",
    "    param_grid=param_grid,\n",
    "    scoring=make_scorer(rmse_scorer, greater_is_better=False),\n",
    "    cv=3,\n",
    "    n_jobs=-1,\n",
    "    verbose=1\n",
    ")\n",
    "\n",
    "# Prepare features\n",
    "X_train = prepare_features_rf(df_train, dv)\n",
    "X_val = prepare_features_rf(df_val, dv)\n",
    "\n",
    "# Fit GridSearchCV\n",
    "print(\"Training Random Forest models with different parameters...\")\n",
    "with tqdm(total=1) as pbar:\n",
    "    grid_search.fit(X_train, y_train)\n",
    "    pbar.update(1)\n",
    "\n",
    "# Print best parameters and score\n",
    "print(\"\\nBest parameters:\", grid_search.best_params_)\n",
    "print(\"Best RMSE:\", round((-grid_search.best_score_)**0.5, 3))\n",
    "\n",
    "# Make predictions with best model\n",
    "best_rf_model = grid_search.best_estimator_\n",
    "val_pred_rf_tuned = best_rf_model.predict(X_val)\n",
    "test_pred_rf_tuned = best_rf_model.predict(prepare_features_rf(df_test, dv))\n",
    "\n",
    "# Calculate metrics for validation and test sets\n",
    "print(\"\\nTuned Random Forest Performance:\")\n",
    "print(f\"Validation RMSE: {round(rmse(y_val, val_pred_rf_tuned), 4)}\")\n",
    "print(f\"Test RMSE: {round(rmse(y_test, test_pred_rf_tuned), 4)}\")\n",
    "\n",
    "# Compare with previous results\n",
    "print(\"\\nPrevious Random Forest Performance:\")\n",
    "print(f\"Validation RMSE: {round(rmse_rf, 4)}\")\n",
    "\n",
    "# Feature importance for tuned model\n",
    "feature_importance_rf_tuned = pd.DataFrame({\n",
    "    'feature': dv.get_feature_names_out(),\n",
    "    'importance': best_rf_model.feature_importances_\n",
    "})\n",
    "feature_importance_rf_tuned = feature_importance_rf_tuned.sort_values('importance', ascending=False)\n",
    "\n",
    "print(\"\\nTop 10 Most Important Features (Tuned Random Forest):\")\n",
    "print(feature_importance_rf_tuned.head(10))\n",
    "\n",
    "# Visualize feature importance\n",
    "plt.figure(figsize=(12, 6))\n",
    "sns.barplot(data=feature_importance_rf_tuned.head(10), x='importance', y='feature')\n",
    "plt.title('Top 10 Feature Importance - Tuned Random Forest')\n",
    "plt.xlabel('Importance')\n",
    "plt.tight_layout()\n",
    "plt.show()"
   ]
  },
  {
   "cell_type": "code",
   "execution_count": 173,
   "metadata": {},
   "outputs": [],
   "source": [
    "# test_predictions = predict_rf(processed_test, dv, rf_model)\n",
    "test_predictions = best_rf_model.predict(prepare_features_rf(processed_test, dv))\n",
    "submission = pd.DataFrame({\n",
    "    'row_id': test['row_id'],\n",
    "    'quantity': test_predictions\n",
    "})\n",
    "submission.to_csv('submission_rf_para_20250112.csv', index=False)"
   ]
  },
  {
   "cell_type": "code",
   "execution_count": 174,
   "metadata": {},
   "outputs": [
    {
     "name": "stdout",
     "output_type": "stream",
     "text": [
      "100%|██████████████████████████████████████| 21.7M/21.7M [00:00<00:00, 30.6MB/s]\n",
      "Successfully submitted to ML Zoomcamp 2024 Competition"
     ]
    }
   ],
   "source": [
    "!kaggle competitions submit -c ml-zoomcamp-2024-competition -f submission_rf_para_20250112.csv -m \"rf_best_model_all_data\""
   ]
  },
  {
   "cell_type": "markdown",
   "metadata": {},
   "source": [
    "The parameter tuning give us 30.96."
   ]
  }
 ],
 "metadata": {
  "kernelspec": {
   "display_name": "Python 3 (ipykernel)",
   "language": "python",
   "name": "python3"
  },
  "language_info": {
   "codemirror_mode": {
    "name": "ipython",
    "version": 3
   },
   "file_extension": ".py",
   "mimetype": "text/x-python",
   "name": "python",
   "nbconvert_exporter": "python",
   "pygments_lexer": "ipython3",
   "version": "3.11.5"
  }
 },
 "nbformat": 4,
 "nbformat_minor": 4
}
